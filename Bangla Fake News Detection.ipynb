{
  "cells": [
    {
      "cell_type": "markdown",
      "metadata": {
        "id": "view-in-github",
        "colab_type": "text"
      },
      "source": [
        "<a href=\"https://colab.research.google.com/github/faisalahm3d/Research/blob/master/Bangla%20Fake%20News%20Detection.ipynb\" target=\"_parent\"><img src=\"https://colab.research.google.com/assets/colab-badge.svg\" alt=\"Open In Colab\"/></a>"
      ]
    },
    {
      "cell_type": "code",
      "execution_count": null,
      "metadata": {
        "colab": {
          "base_uri": "https://localhost:8080/"
        },
        "id": "ad0rSkvkb-Ip",
        "outputId": "566f922a-e935-4aad-fe91-53c5161bd1b4"
      },
      "outputs": [
        {
          "output_type": "stream",
          "name": "stdout",
          "text": [
            "Looking in indexes: https://pypi.org/simple, https://us-python.pkg.dev/colab-wheels/public/simple/\n",
            "Collecting bangla-stemmer\n",
            "  Downloading bangla_stemmer-1.0-py3-none-any.whl (9.1 kB)\n",
            "Installing collected packages: bangla-stemmer\n",
            "Successfully installed bangla-stemmer-1.0\n"
          ]
        }
      ],
      "source": [
        "import pandas as pd\n",
        "import re\n",
        "import string\n",
        "%pip install bangla-stemmer\n",
        "from bangla_stemmer.stemmer.stemmer import BanglaStemmer"
      ]
    },
    {
      "cell_type": "code",
      "source": [
        "from google.colab import drive\n",
        "drive.mount('/content/drive')"
      ],
      "metadata": {
        "colab": {
          "base_uri": "https://localhost:8080/"
        },
        "id": "Sdkk8mYUZ74_",
        "outputId": "7fb9268a-d12b-41cc-9e9a-e35670754359"
      },
      "execution_count": null,
      "outputs": [
        {
          "output_type": "stream",
          "name": "stdout",
          "text": [
            "Mounted at /content/drive\n"
          ]
        }
      ]
    },
    {
      "cell_type": "code",
      "execution_count": null,
      "metadata": {
        "id": "S1mk_tzRK394"
      },
      "outputs": [],
      "source": [
        "real = pd.read_csv('/content/drive/MyDrive/Datasets/LabeledAuthentic-7K.csv') # Authentic News\n",
        "fake = pd.read_csv('/content/drive/MyDrive/Datasets/LabeledFake-1K.csv') # Fake News\n"
      ]
    },
    {
      "cell_type": "code",
      "execution_count": null,
      "metadata": {
        "id": "kaQN_hcuWY-k"
      },
      "outputs": [],
      "source": [
        "real.drop(['articleID', 'date'], axis = 1, inplace = True)\n",
        "real['label'] = real['label'].apply(lambda x: int(x))"
      ]
    },
    {
      "cell_type": "code",
      "execution_count": null,
      "metadata": {
        "id": "-1hMAQ_mWc45"
      },
      "outputs": [],
      "source": [
        "fake.drop(['articleID', 'date', 'F-type'], axis = 1, inplace = True)\n",
        "fake['label'] = fake['label'].apply(lambda x: int(x))"
      ]
    },
    {
      "cell_type": "code",
      "execution_count": null,
      "metadata": {
        "colab": {
          "base_uri": "https://localhost:8080/",
          "height": 320
        },
        "id": "QkcG5fX2TlWo",
        "outputId": "a879e5f2-b80f-4994-b982-76d6afc799af"
      },
      "outputs": [
        {
          "output_type": "execute_result",
          "data": {
            "text/plain": [
              "            domain  category                              source relation  \\\n",
              "0  bd-pratidin.com    Sports  আফগান ক্রিকেট বোর্ড (এসিবি) প্রধান  Related   \n",
              "1     jugantor.com    Sports                            Reporter  Related   \n",
              "2     bd24live.com  National                            Reporter  Related   \n",
              "3     bd24live.com  National            জননিরাপত্তা বিভাগের সচিব  Related   \n",
              "4     somoynews.tv   Finance    পেট্রোল পাম্প মালিক সমিতি সভাপতি  Related   \n",
              "\n",
              "                                            headline  \\\n",
              "0          হঠাৎ আফগান ক্রিকেট বোর্ড প্রধানের পদত্যাগ   \n",
              "1                           টস হেরে বোলিংয়ে বাংলাদেশ   \n",
              "2                     রাজধানীতে বিশেষ অভিযানে আটক ৪৩   \n",
              "3  উস্কানি রোধে নজরদারি থাকবে সামাজিক যোগাযোগ মাধ...   \n",
              "4     'যেখানে তেল আসত ৭ দিনে, এখন তা আসবে অতি দ্রুত'   \n",
              "\n",
              "                                             content  label  \n",
              "0  ক্রিকেট বিশ্বের নতুন চমকের নাম আফগানিস্তান। কয়...      1  \n",
              "1  এশিয়া কাপের ষষ্ঠ ম্যাচে বাংলাদেশ দলের বিপক্ষে ...      1  \n",
              "2  রাজধানীতে মাদক বিরোধী বিশেষ অভিযান পরিচালনা কর...      1  \n",
              "3  সনাতন ধর্মাবলম্বীদের সবচেয়ে বড় ধর্মীয় উৎসব দুর...      1  \n",
              "4  ভারত থেকে পাইপ লাইনের মাধ্যমে সরাসরি দেশে জ্বা...      1  "
            ],
            "text/html": [
              "\n",
              "  <div id=\"df-2d5a4e2f-a4a8-47b9-9020-93e2164547b4\">\n",
              "    <div class=\"colab-df-container\">\n",
              "      <div>\n",
              "<style scoped>\n",
              "    .dataframe tbody tr th:only-of-type {\n",
              "        vertical-align: middle;\n",
              "    }\n",
              "\n",
              "    .dataframe tbody tr th {\n",
              "        vertical-align: top;\n",
              "    }\n",
              "\n",
              "    .dataframe thead th {\n",
              "        text-align: right;\n",
              "    }\n",
              "</style>\n",
              "<table border=\"1\" class=\"dataframe\">\n",
              "  <thead>\n",
              "    <tr style=\"text-align: right;\">\n",
              "      <th></th>\n",
              "      <th>domain</th>\n",
              "      <th>category</th>\n",
              "      <th>source</th>\n",
              "      <th>relation</th>\n",
              "      <th>headline</th>\n",
              "      <th>content</th>\n",
              "      <th>label</th>\n",
              "    </tr>\n",
              "  </thead>\n",
              "  <tbody>\n",
              "    <tr>\n",
              "      <th>0</th>\n",
              "      <td>bd-pratidin.com</td>\n",
              "      <td>Sports</td>\n",
              "      <td>আফগান ক্রিকেট বোর্ড (এসিবি) প্রধান</td>\n",
              "      <td>Related</td>\n",
              "      <td>হঠাৎ আফগান ক্রিকেট বোর্ড প্রধানের পদত্যাগ</td>\n",
              "      <td>ক্রিকেট বিশ্বের নতুন চমকের নাম আফগানিস্তান। কয়...</td>\n",
              "      <td>1</td>\n",
              "    </tr>\n",
              "    <tr>\n",
              "      <th>1</th>\n",
              "      <td>jugantor.com</td>\n",
              "      <td>Sports</td>\n",
              "      <td>Reporter</td>\n",
              "      <td>Related</td>\n",
              "      <td>টস হেরে বোলিংয়ে বাংলাদেশ</td>\n",
              "      <td>এশিয়া কাপের ষষ্ঠ ম্যাচে বাংলাদেশ দলের বিপক্ষে ...</td>\n",
              "      <td>1</td>\n",
              "    </tr>\n",
              "    <tr>\n",
              "      <th>2</th>\n",
              "      <td>bd24live.com</td>\n",
              "      <td>National</td>\n",
              "      <td>Reporter</td>\n",
              "      <td>Related</td>\n",
              "      <td>রাজধানীতে বিশেষ অভিযানে আটক ৪৩</td>\n",
              "      <td>রাজধানীতে মাদক বিরোধী বিশেষ অভিযান পরিচালনা কর...</td>\n",
              "      <td>1</td>\n",
              "    </tr>\n",
              "    <tr>\n",
              "      <th>3</th>\n",
              "      <td>bd24live.com</td>\n",
              "      <td>National</td>\n",
              "      <td>জননিরাপত্তা বিভাগের সচিব</td>\n",
              "      <td>Related</td>\n",
              "      <td>উস্কানি রোধে নজরদারি থাকবে সামাজিক যোগাযোগ মাধ...</td>\n",
              "      <td>সনাতন ধর্মাবলম্বীদের সবচেয়ে বড় ধর্মীয় উৎসব দুর...</td>\n",
              "      <td>1</td>\n",
              "    </tr>\n",
              "    <tr>\n",
              "      <th>4</th>\n",
              "      <td>somoynews.tv</td>\n",
              "      <td>Finance</td>\n",
              "      <td>পেট্রোল পাম্প মালিক সমিতি সভাপতি</td>\n",
              "      <td>Related</td>\n",
              "      <td>'যেখানে তেল আসত ৭ দিনে, এখন তা আসবে অতি দ্রুত'</td>\n",
              "      <td>ভারত থেকে পাইপ লাইনের মাধ্যমে সরাসরি দেশে জ্বা...</td>\n",
              "      <td>1</td>\n",
              "    </tr>\n",
              "  </tbody>\n",
              "</table>\n",
              "</div>\n",
              "      <button class=\"colab-df-convert\" onclick=\"convertToInteractive('df-2d5a4e2f-a4a8-47b9-9020-93e2164547b4')\"\n",
              "              title=\"Convert this dataframe to an interactive table.\"\n",
              "              style=\"display:none;\">\n",
              "        \n",
              "  <svg xmlns=\"http://www.w3.org/2000/svg\" height=\"24px\"viewBox=\"0 0 24 24\"\n",
              "       width=\"24px\">\n",
              "    <path d=\"M0 0h24v24H0V0z\" fill=\"none\"/>\n",
              "    <path d=\"M18.56 5.44l.94 2.06.94-2.06 2.06-.94-2.06-.94-.94-2.06-.94 2.06-2.06.94zm-11 1L8.5 8.5l.94-2.06 2.06-.94-2.06-.94L8.5 2.5l-.94 2.06-2.06.94zm10 10l.94 2.06.94-2.06 2.06-.94-2.06-.94-.94-2.06-.94 2.06-2.06.94z\"/><path d=\"M17.41 7.96l-1.37-1.37c-.4-.4-.92-.59-1.43-.59-.52 0-1.04.2-1.43.59L10.3 9.45l-7.72 7.72c-.78.78-.78 2.05 0 2.83L4 21.41c.39.39.9.59 1.41.59.51 0 1.02-.2 1.41-.59l7.78-7.78 2.81-2.81c.8-.78.8-2.07 0-2.86zM5.41 20L4 18.59l7.72-7.72 1.47 1.35L5.41 20z\"/>\n",
              "  </svg>\n",
              "      </button>\n",
              "      \n",
              "  <style>\n",
              "    .colab-df-container {\n",
              "      display:flex;\n",
              "      flex-wrap:wrap;\n",
              "      gap: 12px;\n",
              "    }\n",
              "\n",
              "    .colab-df-convert {\n",
              "      background-color: #E8F0FE;\n",
              "      border: none;\n",
              "      border-radius: 50%;\n",
              "      cursor: pointer;\n",
              "      display: none;\n",
              "      fill: #1967D2;\n",
              "      height: 32px;\n",
              "      padding: 0 0 0 0;\n",
              "      width: 32px;\n",
              "    }\n",
              "\n",
              "    .colab-df-convert:hover {\n",
              "      background-color: #E2EBFA;\n",
              "      box-shadow: 0px 1px 2px rgba(60, 64, 67, 0.3), 0px 1px 3px 1px rgba(60, 64, 67, 0.15);\n",
              "      fill: #174EA6;\n",
              "    }\n",
              "\n",
              "    [theme=dark] .colab-df-convert {\n",
              "      background-color: #3B4455;\n",
              "      fill: #D2E3FC;\n",
              "    }\n",
              "\n",
              "    [theme=dark] .colab-df-convert:hover {\n",
              "      background-color: #434B5C;\n",
              "      box-shadow: 0px 1px 3px 1px rgba(0, 0, 0, 0.15);\n",
              "      filter: drop-shadow(0px 1px 2px rgba(0, 0, 0, 0.3));\n",
              "      fill: #FFFFFF;\n",
              "    }\n",
              "  </style>\n",
              "\n",
              "      <script>\n",
              "        const buttonEl =\n",
              "          document.querySelector('#df-2d5a4e2f-a4a8-47b9-9020-93e2164547b4 button.colab-df-convert');\n",
              "        buttonEl.style.display =\n",
              "          google.colab.kernel.accessAllowed ? 'block' : 'none';\n",
              "\n",
              "        async function convertToInteractive(key) {\n",
              "          const element = document.querySelector('#df-2d5a4e2f-a4a8-47b9-9020-93e2164547b4');\n",
              "          const dataTable =\n",
              "            await google.colab.kernel.invokeFunction('convertToInteractive',\n",
              "                                                     [key], {});\n",
              "          if (!dataTable) return;\n",
              "\n",
              "          const docLinkHtml = 'Like what you see? Visit the ' +\n",
              "            '<a target=\"_blank\" href=https://colab.research.google.com/notebooks/data_table.ipynb>data table notebook</a>'\n",
              "            + ' to learn more about interactive tables.';\n",
              "          element.innerHTML = '';\n",
              "          dataTable['output_type'] = 'display_data';\n",
              "          await google.colab.output.renderOutput(dataTable, element);\n",
              "          const docLink = document.createElement('div');\n",
              "          docLink.innerHTML = docLinkHtml;\n",
              "          element.appendChild(docLink);\n",
              "        }\n",
              "      </script>\n",
              "    </div>\n",
              "  </div>\n",
              "  "
            ]
          },
          "metadata": {},
          "execution_count": 6
        }
      ],
      "source": [
        "real.head()"
      ]
    },
    {
      "cell_type": "code",
      "execution_count": null,
      "metadata": {
        "colab": {
          "base_uri": "https://localhost:8080/",
          "height": 250
        },
        "id": "dafAPDyEXfkH",
        "outputId": "af70565b-b9f9-4402-bced-7fb32a99afdc"
      },
      "outputs": [
        {
          "output_type": "execute_result",
          "data": {
            "text/plain": [
              "                     domain       category    source   relation  \\\n",
              "0         channeldhaka.news  International  Reporter  Unrelated   \n",
              "1                 earki.com  Miscellaneous  Reporter  Unrelated   \n",
              "2                 earki.com  Miscellaneous  Reporter  Unrelated   \n",
              "3         channeldhaka.news         Sports  Reporter  Unrelated   \n",
              "4  motikontho.wordpress.com  Miscellaneous  Reporter  Unrelated   \n",
              "\n",
              "                                            headline  \\\n",
              "0                           মুরগির হামলায় শেয়াল নিহত   \n",
              "1            বিটিভিতে যেবার আমি ইন্টারভিউ দিতে গেলাম   \n",
              "2  বিদেশ থেকে উন্নতমানের বিরোধীদল আমদানি করার পরা...   \n",
              "3                      অবসর নেয়ার ঘোষণা দিলেন মেসি !   \n",
              "4  মাদারফাকার নহে, ব্রাদারফাকার: সাকা | দৈনিক মতি...   \n",
              "\n",
              "                                             content  label  \n",
              "0  বাংলায় একটা প্রবাদ আছে, শেয়ালের কাছে মুরগী বর্...      0  \n",
              "1  BTV থেকে লোকজন আসছে, ইন্টারভিউ নিবে।চারজনের টি...      0  \n",
              "2  অদ্ভুত বিরোধীদলহীনতায় ভুগছে সরকার। এ এক অন্যরক...      0  \n",
              "3  রাশিয়া বিশ্বকাপ নকআউট পর্বে ফ্রান্সের সাথে ৪-৩...      0  \n",
              "4  নিজস্ব মতিবেদক‘মাদারফাকার নহে, আমি ব্রাদারফাকা...      0  "
            ],
            "text/html": [
              "\n",
              "  <div id=\"df-69627f37-5616-4086-a763-5817beb8151f\">\n",
              "    <div class=\"colab-df-container\">\n",
              "      <div>\n",
              "<style scoped>\n",
              "    .dataframe tbody tr th:only-of-type {\n",
              "        vertical-align: middle;\n",
              "    }\n",
              "\n",
              "    .dataframe tbody tr th {\n",
              "        vertical-align: top;\n",
              "    }\n",
              "\n",
              "    .dataframe thead th {\n",
              "        text-align: right;\n",
              "    }\n",
              "</style>\n",
              "<table border=\"1\" class=\"dataframe\">\n",
              "  <thead>\n",
              "    <tr style=\"text-align: right;\">\n",
              "      <th></th>\n",
              "      <th>domain</th>\n",
              "      <th>category</th>\n",
              "      <th>source</th>\n",
              "      <th>relation</th>\n",
              "      <th>headline</th>\n",
              "      <th>content</th>\n",
              "      <th>label</th>\n",
              "    </tr>\n",
              "  </thead>\n",
              "  <tbody>\n",
              "    <tr>\n",
              "      <th>0</th>\n",
              "      <td>channeldhaka.news</td>\n",
              "      <td>International</td>\n",
              "      <td>Reporter</td>\n",
              "      <td>Unrelated</td>\n",
              "      <td>মুরগির হামলায় শেয়াল নিহত</td>\n",
              "      <td>বাংলায় একটা প্রবাদ আছে, শেয়ালের কাছে মুরগী বর্...</td>\n",
              "      <td>0</td>\n",
              "    </tr>\n",
              "    <tr>\n",
              "      <th>1</th>\n",
              "      <td>earki.com</td>\n",
              "      <td>Miscellaneous</td>\n",
              "      <td>Reporter</td>\n",
              "      <td>Unrelated</td>\n",
              "      <td>বিটিভিতে যেবার আমি ইন্টারভিউ দিতে গেলাম</td>\n",
              "      <td>BTV থেকে লোকজন আসছে, ইন্টারভিউ নিবে।চারজনের টি...</td>\n",
              "      <td>0</td>\n",
              "    </tr>\n",
              "    <tr>\n",
              "      <th>2</th>\n",
              "      <td>earki.com</td>\n",
              "      <td>Miscellaneous</td>\n",
              "      <td>Reporter</td>\n",
              "      <td>Unrelated</td>\n",
              "      <td>বিদেশ থেকে উন্নতমানের বিরোধীদল আমদানি করার পরা...</td>\n",
              "      <td>অদ্ভুত বিরোধীদলহীনতায় ভুগছে সরকার। এ এক অন্যরক...</td>\n",
              "      <td>0</td>\n",
              "    </tr>\n",
              "    <tr>\n",
              "      <th>3</th>\n",
              "      <td>channeldhaka.news</td>\n",
              "      <td>Sports</td>\n",
              "      <td>Reporter</td>\n",
              "      <td>Unrelated</td>\n",
              "      <td>অবসর নেয়ার ঘোষণা দিলেন মেসি !</td>\n",
              "      <td>রাশিয়া বিশ্বকাপ নকআউট পর্বে ফ্রান্সের সাথে ৪-৩...</td>\n",
              "      <td>0</td>\n",
              "    </tr>\n",
              "    <tr>\n",
              "      <th>4</th>\n",
              "      <td>motikontho.wordpress.com</td>\n",
              "      <td>Miscellaneous</td>\n",
              "      <td>Reporter</td>\n",
              "      <td>Unrelated</td>\n",
              "      <td>মাদারফাকার নহে, ব্রাদারফাকার: সাকা | দৈনিক মতি...</td>\n",
              "      <td>নিজস্ব মতিবেদক‘মাদারফাকার নহে, আমি ব্রাদারফাকা...</td>\n",
              "      <td>0</td>\n",
              "    </tr>\n",
              "  </tbody>\n",
              "</table>\n",
              "</div>\n",
              "      <button class=\"colab-df-convert\" onclick=\"convertToInteractive('df-69627f37-5616-4086-a763-5817beb8151f')\"\n",
              "              title=\"Convert this dataframe to an interactive table.\"\n",
              "              style=\"display:none;\">\n",
              "        \n",
              "  <svg xmlns=\"http://www.w3.org/2000/svg\" height=\"24px\"viewBox=\"0 0 24 24\"\n",
              "       width=\"24px\">\n",
              "    <path d=\"M0 0h24v24H0V0z\" fill=\"none\"/>\n",
              "    <path d=\"M18.56 5.44l.94 2.06.94-2.06 2.06-.94-2.06-.94-.94-2.06-.94 2.06-2.06.94zm-11 1L8.5 8.5l.94-2.06 2.06-.94-2.06-.94L8.5 2.5l-.94 2.06-2.06.94zm10 10l.94 2.06.94-2.06 2.06-.94-2.06-.94-.94-2.06-.94 2.06-2.06.94z\"/><path d=\"M17.41 7.96l-1.37-1.37c-.4-.4-.92-.59-1.43-.59-.52 0-1.04.2-1.43.59L10.3 9.45l-7.72 7.72c-.78.78-.78 2.05 0 2.83L4 21.41c.39.39.9.59 1.41.59.51 0 1.02-.2 1.41-.59l7.78-7.78 2.81-2.81c.8-.78.8-2.07 0-2.86zM5.41 20L4 18.59l7.72-7.72 1.47 1.35L5.41 20z\"/>\n",
              "  </svg>\n",
              "      </button>\n",
              "      \n",
              "  <style>\n",
              "    .colab-df-container {\n",
              "      display:flex;\n",
              "      flex-wrap:wrap;\n",
              "      gap: 12px;\n",
              "    }\n",
              "\n",
              "    .colab-df-convert {\n",
              "      background-color: #E8F0FE;\n",
              "      border: none;\n",
              "      border-radius: 50%;\n",
              "      cursor: pointer;\n",
              "      display: none;\n",
              "      fill: #1967D2;\n",
              "      height: 32px;\n",
              "      padding: 0 0 0 0;\n",
              "      width: 32px;\n",
              "    }\n",
              "\n",
              "    .colab-df-convert:hover {\n",
              "      background-color: #E2EBFA;\n",
              "      box-shadow: 0px 1px 2px rgba(60, 64, 67, 0.3), 0px 1px 3px 1px rgba(60, 64, 67, 0.15);\n",
              "      fill: #174EA6;\n",
              "    }\n",
              "\n",
              "    [theme=dark] .colab-df-convert {\n",
              "      background-color: #3B4455;\n",
              "      fill: #D2E3FC;\n",
              "    }\n",
              "\n",
              "    [theme=dark] .colab-df-convert:hover {\n",
              "      background-color: #434B5C;\n",
              "      box-shadow: 0px 1px 3px 1px rgba(0, 0, 0, 0.15);\n",
              "      filter: drop-shadow(0px 1px 2px rgba(0, 0, 0, 0.3));\n",
              "      fill: #FFFFFF;\n",
              "    }\n",
              "  </style>\n",
              "\n",
              "      <script>\n",
              "        const buttonEl =\n",
              "          document.querySelector('#df-69627f37-5616-4086-a763-5817beb8151f button.colab-df-convert');\n",
              "        buttonEl.style.display =\n",
              "          google.colab.kernel.accessAllowed ? 'block' : 'none';\n",
              "\n",
              "        async function convertToInteractive(key) {\n",
              "          const element = document.querySelector('#df-69627f37-5616-4086-a763-5817beb8151f');\n",
              "          const dataTable =\n",
              "            await google.colab.kernel.invokeFunction('convertToInteractive',\n",
              "                                                     [key], {});\n",
              "          if (!dataTable) return;\n",
              "\n",
              "          const docLinkHtml = 'Like what you see? Visit the ' +\n",
              "            '<a target=\"_blank\" href=https://colab.research.google.com/notebooks/data_table.ipynb>data table notebook</a>'\n",
              "            + ' to learn more about interactive tables.';\n",
              "          element.innerHTML = '';\n",
              "          dataTable['output_type'] = 'display_data';\n",
              "          await google.colab.output.renderOutput(dataTable, element);\n",
              "          const docLink = document.createElement('div');\n",
              "          docLink.innerHTML = docLinkHtml;\n",
              "          element.appendChild(docLink);\n",
              "        }\n",
              "      </script>\n",
              "    </div>\n",
              "  </div>\n",
              "  "
            ]
          },
          "metadata": {},
          "execution_count": 7
        }
      ],
      "source": [
        "fake.head()"
      ]
    },
    {
      "cell_type": "code",
      "execution_count": null,
      "metadata": {
        "id": "G9DEKt0zMSQJ"
      },
      "outputs": [],
      "source": [
        "df_merge = pd.concat([fake, real], axis=0)\n",
        "# df_merge.head(10)"
      ]
    },
    {
      "cell_type": "code",
      "execution_count": null,
      "metadata": {
        "id": "Qz6xzYp0XsxC",
        "colab": {
          "base_uri": "https://localhost:8080/"
        },
        "outputId": "f8c0153c-84e7-49c3-f27e-4749b57b6106"
      },
      "outputs": [
        {
          "output_type": "execute_result",
          "data": {
            "text/plain": [
              "domain      0\n",
              "category    0\n",
              "source      0\n",
              "relation    0\n",
              "headline    0\n",
              "content     0\n",
              "label       0\n",
              "dtype: int64"
            ]
          },
          "metadata": {},
          "execution_count": 9
        }
      ],
      "source": [
        "df_merge.isnull().sum()"
      ]
    },
    {
      "cell_type": "code",
      "execution_count": null,
      "metadata": {
        "colab": {
          "base_uri": "https://localhost:8080/"
        },
        "id": "4KkFHSUwfWjB",
        "outputId": "be5ff350-5ab4-4958-95d6-6d9798ef9de3"
      },
      "outputs": [
        {
          "output_type": "execute_result",
          "data": {
            "text/plain": [
              "(8501, 7)"
            ]
          },
          "metadata": {},
          "execution_count": 10
        }
      ],
      "source": [
        "df_merge.shape"
      ]
    },
    {
      "cell_type": "code",
      "execution_count": null,
      "metadata": {
        "id": "aztxL5foMdy2"
      },
      "outputs": [],
      "source": [
        "df = df_merge.sample(frac=1)\n",
        "# df.head(15)"
      ]
    },
    {
      "cell_type": "code",
      "execution_count": null,
      "metadata": {
        "id": "4s9hvmxTKyAa"
      },
      "outputs": [],
      "source": [
        "### Setting up punctuations, stopwords and numbers ###\n",
        "punctuations = [',', ';', '।', '?' , '!', ':', '—', ':-', '-', '’', '“', '”', '(', \n",
        "')', '{', '}', '[', ']', '√', '<', '>', '=', '...', '.', '/', \"'\", '\"', \"‘\", '•',\n",
        "'–', 'é', ' ঃ', '😱', '🙂', '…', '►', '\\●', '॥', '¯','œ', '¯', '¯্র',\n",
        "'Ä', 'ñ', 'ʘ', 'Ñ', 'б', 'а', 'н', 'г', 'л', 'а', 'д', 'е', 'ш', \n",
        "'в', 'а', 'у', '😛', '😞', '😥'\n",
        "]\n",
        "\n",
        "stopwords = [\n",
        "    'অবশ্য', 'অনেক', 'অনেকে', 'অনেকেই', 'অন্তত', 'অথবা', 'অথচ',\n",
        "    'অর্থাত', 'অন্য', 'আজ', 'আছে', 'আপনার', 'আপনি', 'আবার',\n",
        "    'আগে', 'আগেই', 'আই', 'অতএব', 'আগামী', 'অবধি', 'অনুযায়ী',\n",
        "    'আদ্যভাগে', 'এই', 'একই', 'একে', 'একটি', 'এখন', 'এখনও', \n",
        "    'এখানে', 'এখানেই', 'এটি', 'এটা', 'এটাই', 'এতটাই', 'এবং', \n",
        "    'একবার', 'এবার', 'এদের', 'এঁদের', 'এমন', 'এমনকী', 'এল', \n",
        "    'এর', 'এরা', 'এঁরা', 'এস', 'এত', 'এতে', 'এসে', \n",
        "    'একে', 'এ', 'ঐ', 'ই', 'ইহা', 'ইত্যাদি', 'উনি', \n",
        "    'উপর', 'উপরে', 'উচিত', 'ও', 'ওই', 'ওর', 'ওরা', \n",
        "    'ওঁর', 'ওঁরা', 'ওকে', 'ওদের', 'ওঁদের', 'ওখানে', 'কত', \n",
        "    'কবে', 'করতে', 'কয়েক', 'কয়েকটি', 'করবে', 'করলেন', 'করার', \n",
        "    'কারও', 'করা', 'করি', 'করিয়ে', 'করার', 'করাই', 'করলে', \n",
        "    'করলেন', 'করিতে', 'করিয়া', 'করেছিলেন', 'করছে', 'করছেন', 'করেছেন', \n",
        "    'করেছে', 'করেন', 'করবেন', 'করায়', 'করে', 'করেই', 'কাছ', \n",
        "    'কাছে', 'কাজে', 'কারণ', 'কিছু', 'কিছুই', 'কিন্তু', 'কিংবা', \n",
        "    'কি', 'কী', 'কেউ', 'কেউই', 'কাউকে', 'কেন', 'কে', \n",
        "    'কোনও', 'কোনো', 'কোন', 'কখনও', 'ক্ষেত্রে', 'খুব', 'গুলি', \n",
        "    'গিয়ে', 'গিয়েছে', 'গেছে', 'গেল', 'গেলে', 'গোটা', 'চলে', \n",
        "    'ছাড়া', 'ছাড়াও', 'ছিলেন', 'ছিল', 'জন্য', 'জানা', 'ঠিক', \n",
        "    'তিনি', 'তিনঐ', 'তিনিও', 'তখন', 'তবে', 'তবু', 'তাঁদের', \n",
        "    'তাঁহারা', 'তাঁরা', 'তাঁর', 'তাঁকে', 'তাই', 'তেমন', 'তাকে', \n",
        "    'তাহা', 'তাহাতে', 'তাহার', 'তাদের', 'তারপর', 'তারা', 'তারৈ', \n",
        "    'তার', 'তাহলে', 'তিনি', 'তা', 'তাও', 'তাতে', 'তো', \n",
        "    'তত', 'তুমি', 'তোমার', 'তথা', 'থাকে', 'থাকা', 'থাকায়', \n",
        "    'থেকে', 'থেকেও', 'থাকবে', 'থাকেন', 'থাকবেন', 'থেকেই', 'দিকে', \n",
        "    'দিতে', 'দিয়ে', 'দিয়েছে', 'দিয়েছেন', 'দিলেন', 'দু', 'দুটি', \n",
        "    'দুটো', 'দেয়', 'দেওয়া', 'দেওয়ার', 'দেখা', 'দেখে', 'দেখতে', \n",
        "    'দ্বারা', 'ধরে', 'ধরা', 'নয়', 'নানা', 'না', 'নাকি', \n",
        "    'নাগাদ', 'নিতে', 'নিজে', 'নিজেই', 'নিজের', 'নিজেদের', 'নিয়ে', \n",
        "    'নেওয়া', 'নেওয়ার', 'নেই', 'নাই', 'পক্ষে', 'পর্যন্ত', 'পাওয়া', \n",
        "    'পারেন', 'পারি', 'পারে', 'পরে', 'পরেই', 'পরেও', 'পর', \n",
        "    'পেয়ে', 'প্রতি', 'প্রভৃতি', 'প্রায়', 'ফের', 'ফলে', 'ফিরে', \n",
        "    'ব্যবহার', 'বলতে', 'বললেন', 'বলেছেন', 'বলল', 'বলা', 'বলেন', \n",
        "    'বলে', 'বহু', 'বসে', 'বার', 'বা', 'বিনা', 'বরং', \n",
        "    'বদলে', 'বাদে', 'বার', 'বিশেষ', 'বিভিন্ন', 'বিষয়টি', 'ব্যবহার', \n",
        "    'ব্যাপারে', 'ভাবে', 'ভাবেই', 'মধ্যে', 'মধ্যেই', 'মধ্যেও', 'মধ্যভাগে', \n",
        "    'মাধ্যমে', 'মাত্র', 'মতো', 'মতোই', 'মোটেই', 'যখন', 'যদি', \n",
        "    'যদিও', 'যাবে', 'যায়', 'যাকে', 'যাওয়া', 'যাওয়ার', 'যত', \n",
        "    'যতটা', 'যা', 'যার', 'যারা', 'যাঁর', 'যাঁরা', 'যাদের', \n",
        "    'যান', 'যাচ্ছে', 'যেতে', 'যাতে', 'যেন', 'যেমন', 'যেখানে', \n",
        "    'যিনি', 'যে', 'রেখে', 'রাখা', 'রয়েছে', 'রকম', 'শুধু', \n",
        "    'সঙ্গে', 'সঙ্গেও', 'সমস্ত', 'সব', 'সবার', 'সহ', 'সুতরাং', \n",
        "    'সহিত', 'সেই', 'সেটা', 'সেটি', 'সেটাই', 'সেটাও', 'সম্প্রতি', \n",
        "    'সেখান', 'সেখানে', 'সে', 'স্পষ্ট', 'স্বয়ং', 'হইতে', 'হইবে', \n",
        "    'হৈলে', 'হইয়া', 'হচ্ছে', 'হত', 'হতে', 'হতেই', 'হবে', \n",
        "    'হবেন', 'হয়েছিল', 'হয়েছে', 'হয়েছেন', 'হয়ে', 'হয়নি', 'হয়', \n",
        "    'হয়েই', 'হয়তো', 'হল', 'হলে', 'হলেই', 'হলেও', 'হলো', \n",
        "    'হিসাবে', 'হওয়া', 'হওয়ার', 'হওয়ায়', 'হন', 'হোক', 'জন', \n",
        "    'জনকে', 'জনের', 'জানতে', 'জানায়', 'জানিয়ে', 'জানানো', 'জানিয়েছে', \n",
        "    'জন্য', 'জন্যওজে', 'জে', 'বেশ', 'দেন', 'তুলে', 'ছিলেন', \n",
        "    'চান', 'চায়', 'চেয়ে', 'মোট', 'যথেষ্ট', 'টি'\n",
        "]\n",
        "\n",
        "stemmer = BanglaStemmer()\n",
        "# numbers = ['0', '1', '2', '3', '4', '5', '6', '7', '8', '9']\n",
        "# alphabets = string.ascii_lowercase + string.ascii_uppercase\n",
        "# alphabets_list = list(alphabets)"
      ]
    },
    {
      "cell_type": "code",
      "execution_count": null,
      "metadata": {
        "id": "DhJhRwb0MkQR"
      },
      "outputs": [],
      "source": [
        "def remove_punctuation(txt):\n",
        "    txt_nopunc = \"\".join([c for c in txt if c not in punctuations])\n",
        "    return txt_nopunc\n",
        "\n",
        "def remove_english_punctuation(txt):\n",
        "    txt_nopunc = \"\".join([c for c in txt if c not in string.punctuation])\n",
        "    return txt_nopunc\n",
        "\n",
        "def tokenize(txt):\n",
        "    tokens = re.split('\\s+', txt)\n",
        "    return tokens\n",
        "\n",
        "def remove_stopwords(txt_tokenized):\n",
        "    txt_clean = ([word for word in txt_tokenized if word not in stopwords])\n",
        "    return txt_clean\n",
        "\n",
        "def stemming(txt_no_sw):\n",
        "    stemmed_txt = [stemmer.stem(word) for word in txt_no_sw]\n",
        "    return stemmed_txt"
      ]
    },
    {
      "cell_type": "code",
      "execution_count": null,
      "metadata": {
        "id": "c2OiZ4W7dnii"
      },
      "outputs": [],
      "source": [
        "df['category'] = df['category'].apply(lambda x: x.lower())\n",
        "df['source'] = df['source'].apply(lambda x: x.lower())\n",
        "df['relation'] = df['relation'].apply(lambda x: x.lower())"
      ]
    },
    {
      "cell_type": "code",
      "execution_count": null,
      "metadata": {
        "id": "BUHigxtojouh"
      },
      "outputs": [],
      "source": [
        "df['news'] = df['headline'] + ' ' + df['content']"
      ]
    },
    {
      "cell_type": "code",
      "execution_count": null,
      "metadata": {
        "id": "PmhO5U5qkmNO"
      },
      "outputs": [],
      "source": [
        "df.drop(['headline', 'content'], axis = 1, inplace = True)"
      ]
    },
    {
      "cell_type": "code",
      "execution_count": null,
      "metadata": {
        "id": "uM9aMHuJmTzY"
      },
      "outputs": [],
      "source": [
        "df['news'] = df.news.apply(lambda x: remove_english_punctuation(x))\n",
        "df['news'] = df.news.apply(lambda x: remove_punctuation(x))\n",
        "df['news'] = df.news.apply(lambda x: ' '.join(x.split()))\n",
        "df['news'] = df.news.apply(lambda x: tokenize(x))\n",
        "df['news'] = df.news.apply(lambda x: remove_stopwords(x))\n",
        "df['news'] = df.news.apply(lambda x: stemming(x))\n",
        "df['news'] = df.news.apply(lambda x: ' '.join(x))"
      ]
    },
    {
      "cell_type": "code",
      "execution_count": null,
      "metadata": {
        "colab": {
          "base_uri": "https://localhost:8080/",
          "height": 363
        },
        "id": "IWfeYOX8nAd9",
        "outputId": "07862639-89b5-47bf-cb7f-eb1d8501d576"
      },
      "outputs": [
        {
          "output_type": "execute_result",
          "data": {
            "text/plain": [
              "                        domain       category  \\\n",
              "1598          dhakatimes24.com         sports   \n",
              "702   motikontho.wordpress.com       national   \n",
              "6628            jagonews24.com       national   \n",
              "4887         banglatribune.com  international   \n",
              "5744         independent24.com       politics   \n",
              "6891         independent24.com       national   \n",
              "538                   rtnn.net  international   \n",
              "4504           bd-pratidin.com         sports   \n",
              "1071  motikontho.wordpress.com  miscellaneous   \n",
              "3631         banglatribune.com       national   \n",
              "\n",
              "                                                 source   relation  label  \\\n",
              "1598                                           reporter    related      1   \n",
              "702                                            reporter  unrelated      0   \n",
              "6628                       বগুড়া রেলওয়ের স্টেশন মাস্টার    related      1   \n",
              "4887               ওয়ানজা বন্দরর আঞ্চলিক পুলিশ কমান্ডার    related      1   \n",
              "5744                          আওয়ামী লীগ সাধারণ সম্পাদক    related      1   \n",
              "6891                                           reporter    related      1   \n",
              "538                                              বিবিসি    related      1   \n",
              "4504                                           reporter    related      1   \n",
              "1071                                           reporter  unrelated      0   \n",
              "3631  চট্টগ্রাম বিশ্ববিদ্যালয় ছাত্রলীগের সাবেক সহ-সভ...    related      1   \n",
              "\n",
              "                                                   news  \n",
              "1598  ভারতপাকিস্তান মহারণ বিশ্ব ক্রিকেট সবসময় চিরপ্র...  \n",
              "702   চট্টগ্রাম মেডিকেলের শিক্ষার্থী সড়ক অবরোধ দৈনিক...  \n",
              "6628  দাব সেতু বগুড়াসান্ত রুটে ট্র চলাচল বন্ধ সেতু দ...  \n",
              "4887  তানজানিয়ায় ফেরি উল্টে নিহত শতাধিক নিখোঁজ দুইশ ...  \n",
              "5744  দেশত্যাগে বাধ্য অভিযোগ মনগড়া কাদের সাবেক প্রধা...  \n",
              "6891  মধ্যরাত শুরু ইলিশ ধরায় নিষেধাজ্ঞা প্রজনন বাড়া ...  \n",
              "538   তাঞ্জানিয়ায় ফেরি ডুবে নিহত ৪৪ আন্তর্জাতিক ডেস্...  \n",
              "4504  মেহেদিমাশরাফির লড়া ১৭৩ রান সংগ্রহ টাইগার চলতি ...  \n",
              "1071  জন্মদিনে বাবুনগরী লও লও লও ছাল ওবামা দৈনিক মতি...  \n",
              "3631  সাকা চৌধুরীর কবর শহীদ লেখা নামফলক অপসারণ করলো ...  "
            ],
            "text/html": [
              "\n",
              "  <div id=\"df-71dd06b4-4186-42ca-b05e-bcf66f774ab2\">\n",
              "    <div class=\"colab-df-container\">\n",
              "      <div>\n",
              "<style scoped>\n",
              "    .dataframe tbody tr th:only-of-type {\n",
              "        vertical-align: middle;\n",
              "    }\n",
              "\n",
              "    .dataframe tbody tr th {\n",
              "        vertical-align: top;\n",
              "    }\n",
              "\n",
              "    .dataframe thead th {\n",
              "        text-align: right;\n",
              "    }\n",
              "</style>\n",
              "<table border=\"1\" class=\"dataframe\">\n",
              "  <thead>\n",
              "    <tr style=\"text-align: right;\">\n",
              "      <th></th>\n",
              "      <th>domain</th>\n",
              "      <th>category</th>\n",
              "      <th>source</th>\n",
              "      <th>relation</th>\n",
              "      <th>label</th>\n",
              "      <th>news</th>\n",
              "    </tr>\n",
              "  </thead>\n",
              "  <tbody>\n",
              "    <tr>\n",
              "      <th>1598</th>\n",
              "      <td>dhakatimes24.com</td>\n",
              "      <td>sports</td>\n",
              "      <td>reporter</td>\n",
              "      <td>related</td>\n",
              "      <td>1</td>\n",
              "      <td>ভারতপাকিস্তান মহারণ বিশ্ব ক্রিকেট সবসময় চিরপ্র...</td>\n",
              "    </tr>\n",
              "    <tr>\n",
              "      <th>702</th>\n",
              "      <td>motikontho.wordpress.com</td>\n",
              "      <td>national</td>\n",
              "      <td>reporter</td>\n",
              "      <td>unrelated</td>\n",
              "      <td>0</td>\n",
              "      <td>চট্টগ্রাম মেডিকেলের শিক্ষার্থী সড়ক অবরোধ দৈনিক...</td>\n",
              "    </tr>\n",
              "    <tr>\n",
              "      <th>6628</th>\n",
              "      <td>jagonews24.com</td>\n",
              "      <td>national</td>\n",
              "      <td>বগুড়া রেলওয়ের স্টেশন মাস্টার</td>\n",
              "      <td>related</td>\n",
              "      <td>1</td>\n",
              "      <td>দাব সেতু বগুড়াসান্ত রুটে ট্র চলাচল বন্ধ সেতু দ...</td>\n",
              "    </tr>\n",
              "    <tr>\n",
              "      <th>4887</th>\n",
              "      <td>banglatribune.com</td>\n",
              "      <td>international</td>\n",
              "      <td>ওয়ানজা বন্দরর আঞ্চলিক পুলিশ কমান্ডার</td>\n",
              "      <td>related</td>\n",
              "      <td>1</td>\n",
              "      <td>তানজানিয়ায় ফেরি উল্টে নিহত শতাধিক নিখোঁজ দুইশ ...</td>\n",
              "    </tr>\n",
              "    <tr>\n",
              "      <th>5744</th>\n",
              "      <td>independent24.com</td>\n",
              "      <td>politics</td>\n",
              "      <td>আওয়ামী লীগ সাধারণ সম্পাদক</td>\n",
              "      <td>related</td>\n",
              "      <td>1</td>\n",
              "      <td>দেশত্যাগে বাধ্য অভিযোগ মনগড়া কাদের সাবেক প্রধা...</td>\n",
              "    </tr>\n",
              "    <tr>\n",
              "      <th>6891</th>\n",
              "      <td>independent24.com</td>\n",
              "      <td>national</td>\n",
              "      <td>reporter</td>\n",
              "      <td>related</td>\n",
              "      <td>1</td>\n",
              "      <td>মধ্যরাত শুরু ইলিশ ধরায় নিষেধাজ্ঞা প্রজনন বাড়া ...</td>\n",
              "    </tr>\n",
              "    <tr>\n",
              "      <th>538</th>\n",
              "      <td>rtnn.net</td>\n",
              "      <td>international</td>\n",
              "      <td>বিবিসি</td>\n",
              "      <td>related</td>\n",
              "      <td>1</td>\n",
              "      <td>তাঞ্জানিয়ায় ফেরি ডুবে নিহত ৪৪ আন্তর্জাতিক ডেস্...</td>\n",
              "    </tr>\n",
              "    <tr>\n",
              "      <th>4504</th>\n",
              "      <td>bd-pratidin.com</td>\n",
              "      <td>sports</td>\n",
              "      <td>reporter</td>\n",
              "      <td>related</td>\n",
              "      <td>1</td>\n",
              "      <td>মেহেদিমাশরাফির লড়া ১৭৩ রান সংগ্রহ টাইগার চলতি ...</td>\n",
              "    </tr>\n",
              "    <tr>\n",
              "      <th>1071</th>\n",
              "      <td>motikontho.wordpress.com</td>\n",
              "      <td>miscellaneous</td>\n",
              "      <td>reporter</td>\n",
              "      <td>unrelated</td>\n",
              "      <td>0</td>\n",
              "      <td>জন্মদিনে বাবুনগরী লও লও লও ছাল ওবামা দৈনিক মতি...</td>\n",
              "    </tr>\n",
              "    <tr>\n",
              "      <th>3631</th>\n",
              "      <td>banglatribune.com</td>\n",
              "      <td>national</td>\n",
              "      <td>চট্টগ্রাম বিশ্ববিদ্যালয় ছাত্রলীগের সাবেক সহ-সভ...</td>\n",
              "      <td>related</td>\n",
              "      <td>1</td>\n",
              "      <td>সাকা চৌধুরীর কবর শহীদ লেখা নামফলক অপসারণ করলো ...</td>\n",
              "    </tr>\n",
              "  </tbody>\n",
              "</table>\n",
              "</div>\n",
              "      <button class=\"colab-df-convert\" onclick=\"convertToInteractive('df-71dd06b4-4186-42ca-b05e-bcf66f774ab2')\"\n",
              "              title=\"Convert this dataframe to an interactive table.\"\n",
              "              style=\"display:none;\">\n",
              "        \n",
              "  <svg xmlns=\"http://www.w3.org/2000/svg\" height=\"24px\"viewBox=\"0 0 24 24\"\n",
              "       width=\"24px\">\n",
              "    <path d=\"M0 0h24v24H0V0z\" fill=\"none\"/>\n",
              "    <path d=\"M18.56 5.44l.94 2.06.94-2.06 2.06-.94-2.06-.94-.94-2.06-.94 2.06-2.06.94zm-11 1L8.5 8.5l.94-2.06 2.06-.94-2.06-.94L8.5 2.5l-.94 2.06-2.06.94zm10 10l.94 2.06.94-2.06 2.06-.94-2.06-.94-.94-2.06-.94 2.06-2.06.94z\"/><path d=\"M17.41 7.96l-1.37-1.37c-.4-.4-.92-.59-1.43-.59-.52 0-1.04.2-1.43.59L10.3 9.45l-7.72 7.72c-.78.78-.78 2.05 0 2.83L4 21.41c.39.39.9.59 1.41.59.51 0 1.02-.2 1.41-.59l7.78-7.78 2.81-2.81c.8-.78.8-2.07 0-2.86zM5.41 20L4 18.59l7.72-7.72 1.47 1.35L5.41 20z\"/>\n",
              "  </svg>\n",
              "      </button>\n",
              "      \n",
              "  <style>\n",
              "    .colab-df-container {\n",
              "      display:flex;\n",
              "      flex-wrap:wrap;\n",
              "      gap: 12px;\n",
              "    }\n",
              "\n",
              "    .colab-df-convert {\n",
              "      background-color: #E8F0FE;\n",
              "      border: none;\n",
              "      border-radius: 50%;\n",
              "      cursor: pointer;\n",
              "      display: none;\n",
              "      fill: #1967D2;\n",
              "      height: 32px;\n",
              "      padding: 0 0 0 0;\n",
              "      width: 32px;\n",
              "    }\n",
              "\n",
              "    .colab-df-convert:hover {\n",
              "      background-color: #E2EBFA;\n",
              "      box-shadow: 0px 1px 2px rgba(60, 64, 67, 0.3), 0px 1px 3px 1px rgba(60, 64, 67, 0.15);\n",
              "      fill: #174EA6;\n",
              "    }\n",
              "\n",
              "    [theme=dark] .colab-df-convert {\n",
              "      background-color: #3B4455;\n",
              "      fill: #D2E3FC;\n",
              "    }\n",
              "\n",
              "    [theme=dark] .colab-df-convert:hover {\n",
              "      background-color: #434B5C;\n",
              "      box-shadow: 0px 1px 3px 1px rgba(0, 0, 0, 0.15);\n",
              "      filter: drop-shadow(0px 1px 2px rgba(0, 0, 0, 0.3));\n",
              "      fill: #FFFFFF;\n",
              "    }\n",
              "  </style>\n",
              "\n",
              "      <script>\n",
              "        const buttonEl =\n",
              "          document.querySelector('#df-71dd06b4-4186-42ca-b05e-bcf66f774ab2 button.colab-df-convert');\n",
              "        buttonEl.style.display =\n",
              "          google.colab.kernel.accessAllowed ? 'block' : 'none';\n",
              "\n",
              "        async function convertToInteractive(key) {\n",
              "          const element = document.querySelector('#df-71dd06b4-4186-42ca-b05e-bcf66f774ab2');\n",
              "          const dataTable =\n",
              "            await google.colab.kernel.invokeFunction('convertToInteractive',\n",
              "                                                     [key], {});\n",
              "          if (!dataTable) return;\n",
              "\n",
              "          const docLinkHtml = 'Like what you see? Visit the ' +\n",
              "            '<a target=\"_blank\" href=https://colab.research.google.com/notebooks/data_table.ipynb>data table notebook</a>'\n",
              "            + ' to learn more about interactive tables.';\n",
              "          element.innerHTML = '';\n",
              "          dataTable['output_type'] = 'display_data';\n",
              "          await google.colab.output.renderOutput(dataTable, element);\n",
              "          const docLink = document.createElement('div');\n",
              "          docLink.innerHTML = docLinkHtml;\n",
              "          element.appendChild(docLink);\n",
              "        }\n",
              "      </script>\n",
              "    </div>\n",
              "  </div>\n",
              "  "
            ]
          },
          "metadata": {},
          "execution_count": 88
        }
      ],
      "source": [
        "df.head(10)"
      ]
    },
    {
      "cell_type": "code",
      "execution_count": null,
      "metadata": {
        "id": "zPkssEWvy-q6"
      },
      "outputs": [],
      "source": [
        "x = df.drop(['label'], axis = 1) # dropping the target\n",
        "y = df['label']"
      ]
    },
    {
      "cell_type": "code",
      "execution_count": null,
      "metadata": {
        "id": "PFp0lNg80rSj"
      },
      "outputs": [],
      "source": [
        "x['test'] = x.domain + ' ' +  x.category + ' ' + x.source + ' ' + x.relation + ' ' + x.news"
      ]
    },
    {
      "cell_type": "code",
      "execution_count": null,
      "metadata": {
        "id": "u3Pzdy5x1VAC"
      },
      "outputs": [],
      "source": [
        "x = x.drop(['domain', 'category', 'source', 'relation', 'news'], axis=1)"
      ]
    },
    {
      "cell_type": "code",
      "execution_count": null,
      "metadata": {
        "id": "zFbSEX0SN6fT"
      },
      "outputs": [],
      "source": [
        "from sklearn.feature_extraction.text import TfidfVectorizer\n",
        "from sklearn.metrics import classification_report\n",
        "from sklearn.metrics import confusion_matrix"
      ]
    },
    {
      "cell_type": "code",
      "execution_count": null,
      "metadata": {
        "id": "9QY_JzPYN8ia"
      },
      "outputs": [],
      "source": [
        "vect = TfidfVectorizer(encoding=\"utf-8\", analyzer=tokenize)\n",
        "xv = vect.fit_transform(x.test)"
      ]
    },
    {
      "cell_type": "code",
      "execution_count": null,
      "metadata": {
        "id": "XAFVKiUcVV-3"
      },
      "outputs": [],
      "source": [
        "from sklearn.model_selection import train_test_split\n",
        "X_train,X_test, y_train,y_test = train_test_split(xv, y, test_size=0.3, random_state=0, stratify=y)"
      ]
    },
    {
      "cell_type": "markdown",
      "metadata": {
        "id": "QFdk9tbtDWmN"
      },
      "source": [
        "Naive Bayes Classifier"
      ]
    },
    {
      "cell_type": "code",
      "execution_count": null,
      "metadata": {
        "colab": {
          "base_uri": "https://localhost:8080/"
        },
        "id": "tf7XOS2BOJFr",
        "outputId": "fcd40efe-37f3-442b-9f5b-c2fe285621b7"
      },
      "outputs": [
        {
          "output_type": "execute_result",
          "data": {
            "text/plain": [
              "MultinomialNB()"
            ]
          },
          "metadata": {},
          "execution_count": 95
        }
      ],
      "source": [
        "from sklearn.naive_bayes import MultinomialNB\n",
        "NB = MultinomialNB()\n",
        "NB.fit(X_train, y_train)"
      ]
    },
    {
      "cell_type": "code",
      "execution_count": null,
      "metadata": {
        "colab": {
          "base_uri": "https://localhost:8080/"
        },
        "id": "ax0pxQpnOYbi",
        "outputId": "05b46628-7f04-4c8c-cb5a-c19ec715df56"
      },
      "outputs": [
        {
          "output_type": "execute_result",
          "data": {
            "text/plain": [
              "0.8522148177185418"
            ]
          },
          "metadata": {},
          "execution_count": 96
        }
      ],
      "source": [
        "NB.score(X_test, y_test)"
      ]
    },
    {
      "cell_type": "markdown",
      "metadata": {
        "id": "ElO14mexSlZT"
      },
      "source": [
        "Classification Report of Naive Bayes"
      ]
    },
    {
      "cell_type": "code",
      "execution_count": null,
      "metadata": {
        "id": "_xXLxErGOeAv"
      },
      "outputs": [],
      "source": [
        "pred_NB = NB.predict(X_test)"
      ]
    },
    {
      "cell_type": "code",
      "execution_count": null,
      "metadata": {
        "colab": {
          "base_uri": "https://localhost:8080/"
        },
        "id": "-9AEct91OfOk",
        "outputId": "93bb19b8-1746-44ac-d757-72503c5f1b5e"
      },
      "outputs": [
        {
          "output_type": "stream",
          "name": "stdout",
          "text": [
            "              precision    recall  f1-score   support\n",
            "\n",
            "           0       0.88      0.04      0.07       390\n",
            "           1       0.85      1.00      0.92      2161\n",
            "\n",
            "    accuracy                           0.85      2551\n",
            "   macro avg       0.87      0.52      0.50      2551\n",
            "weighted avg       0.86      0.85      0.79      2551\n",
            "\n"
          ]
        }
      ],
      "source": [
        "print(classification_report(y_test, pred_NB)) "
      ]
    },
    {
      "cell_type": "markdown",
      "source": [
        "Confusion Matrix NB"
      ],
      "metadata": {
        "id": "oxmwCdW1pF6D"
      }
    },
    {
      "cell_type": "code",
      "source": [
        "print(confusion_matrix(y_test, pred_NB))"
      ],
      "metadata": {
        "colab": {
          "base_uri": "https://localhost:8080/"
        },
        "id": "PN0ynqijozsW",
        "outputId": "5ea889f2-2dbe-41dd-e551-e1d73e779bea"
      },
      "execution_count": null,
      "outputs": [
        {
          "output_type": "stream",
          "name": "stdout",
          "text": [
            "[[  15  375]\n",
            " [   2 2159]]\n"
          ]
        }
      ]
    },
    {
      "cell_type": "markdown",
      "metadata": {
        "id": "qXRxFXDTSvLN"
      },
      "source": [
        "Logistic Regression"
      ]
    },
    {
      "cell_type": "code",
      "execution_count": null,
      "metadata": {
        "id": "YAjdbA55OByF"
      },
      "outputs": [],
      "source": [
        "from sklearn.linear_model import LogisticRegression"
      ]
    },
    {
      "cell_type": "code",
      "execution_count": null,
      "metadata": {
        "colab": {
          "base_uri": "https://localhost:8080/"
        },
        "id": "u-HD_qoqODTP",
        "outputId": "bb6066be-be24-4d9f-d162-72da17aa6633"
      },
      "outputs": [
        {
          "output_type": "execute_result",
          "data": {
            "text/plain": [
              "LogisticRegression()"
            ]
          },
          "metadata": {},
          "execution_count": 101
        }
      ],
      "source": [
        "LR = LogisticRegression()\n",
        "LR.fit(X_train, y_train)"
      ]
    },
    {
      "cell_type": "code",
      "execution_count": null,
      "metadata": {
        "colab": {
          "base_uri": "https://localhost:8080/"
        },
        "id": "N8r6rpDROFBn",
        "outputId": "f24bc8a4-3a52-4ece-ce05-17901ffabb30"
      },
      "outputs": [
        {
          "output_type": "execute_result",
          "data": {
            "text/plain": [
              "0.9368874950999608"
            ]
          },
          "metadata": {},
          "execution_count": 102
        }
      ],
      "source": [
        "LR.score(X_test, y_test)"
      ]
    },
    {
      "cell_type": "markdown",
      "metadata": {
        "id": "tqK-EfVHS2vl"
      },
      "source": [
        "Classification Report of Logistic Regression"
      ]
    },
    {
      "cell_type": "code",
      "execution_count": null,
      "metadata": {
        "id": "sed1iih1OGj9"
      },
      "outputs": [],
      "source": [
        "pred_LR = LR.predict(X_test)"
      ]
    },
    {
      "cell_type": "code",
      "execution_count": null,
      "metadata": {
        "colab": {
          "base_uri": "https://localhost:8080/"
        },
        "id": "Kr6QbPj7OH6m",
        "outputId": "ca8685c4-ef01-420d-b596-817c8e1beba8"
      },
      "outputs": [
        {
          "output_type": "stream",
          "name": "stdout",
          "text": [
            "              precision    recall  f1-score   support\n",
            "\n",
            "           0       0.97      0.61      0.75       390\n",
            "           1       0.93      1.00      0.96      2161\n",
            "\n",
            "    accuracy                           0.94      2551\n",
            "   macro avg       0.95      0.80      0.85      2551\n",
            "weighted avg       0.94      0.94      0.93      2551\n",
            "\n"
          ]
        }
      ],
      "source": [
        "print(classification_report(y_test, pred_LR)) "
      ]
    },
    {
      "cell_type": "markdown",
      "source": [
        "Confusion Matrix LR"
      ],
      "metadata": {
        "id": "rtNosh8JpRc-"
      }
    },
    {
      "cell_type": "code",
      "source": [
        "print(confusion_matrix(y_test, pred_LR)) # very poor results for minority class"
      ],
      "metadata": {
        "colab": {
          "base_uri": "https://localhost:8080/"
        },
        "id": "oOtMSiKppZpF",
        "outputId": "15d5f4f2-2bf7-4ae0-f88e-de61f044d091"
      },
      "execution_count": null,
      "outputs": [
        {
          "output_type": "stream",
          "name": "stdout",
          "text": [
            "[[ 236  154]\n",
            " [   7 2154]]\n"
          ]
        }
      ]
    },
    {
      "cell_type": "markdown",
      "metadata": {
        "id": "w3U8k-H_d0WU"
      },
      "source": [
        "Decision Tree Classifier"
      ]
    },
    {
      "cell_type": "code",
      "execution_count": null,
      "metadata": {
        "id": "hDb2zfZzdzV-"
      },
      "outputs": [],
      "source": [
        "from sklearn.tree import DecisionTreeClassifier\n",
        "DT = DecisionTreeClassifier(random_state=0)"
      ]
    },
    {
      "cell_type": "code",
      "execution_count": null,
      "metadata": {
        "colab": {
          "base_uri": "https://localhost:8080/"
        },
        "id": "wk1pSdF_eE43",
        "outputId": "545ad512-6bae-414e-c831-0b9b8ec0f07e"
      },
      "outputs": [
        {
          "output_type": "execute_result",
          "data": {
            "text/plain": [
              "0.9921599372794982"
            ]
          },
          "metadata": {},
          "execution_count": 107
        }
      ],
      "source": [
        "DT.fit(X_train, y_train)\n",
        "DT.score(X_test, y_test)"
      ]
    },
    {
      "cell_type": "markdown",
      "metadata": {
        "id": "1zo7JsVnlbIK"
      },
      "source": [
        "Classification Report of Decision Tree"
      ]
    },
    {
      "cell_type": "code",
      "execution_count": null,
      "metadata": {
        "colab": {
          "base_uri": "https://localhost:8080/"
        },
        "id": "gbNtH1YreQdg",
        "outputId": "8f48b3f9-7eaa-4801-80af-a856a90f1c36"
      },
      "outputs": [
        {
          "output_type": "stream",
          "name": "stdout",
          "text": [
            "              precision    recall  f1-score   support\n",
            "\n",
            "           0       0.98      0.96      0.97       390\n",
            "           1       0.99      1.00      1.00      2161\n",
            "\n",
            "    accuracy                           0.99      2551\n",
            "   macro avg       0.99      0.98      0.98      2551\n",
            "weighted avg       0.99      0.99      0.99      2551\n",
            "\n"
          ]
        }
      ],
      "source": [
        "pred_DT = DT.predict(X_test)\n",
        "print(classification_report(y_test, pred_DT))"
      ]
    },
    {
      "cell_type": "markdown",
      "source": [
        "Confusion Matrix DT"
      ],
      "metadata": {
        "id": "EjxA5v7Jpqhc"
      }
    },
    {
      "cell_type": "code",
      "source": [
        "print(confusion_matrix(y_test, pred_DT)) # Way to go DT!!"
      ],
      "metadata": {
        "colab": {
          "base_uri": "https://localhost:8080/"
        },
        "id": "q_lPj1m_plGk",
        "outputId": "fbfbb878-b990-47b3-9885-3fd73f8ad230"
      },
      "execution_count": null,
      "outputs": [
        {
          "output_type": "stream",
          "name": "stdout",
          "text": [
            "[[ 376   14]\n",
            " [   6 2155]]\n"
          ]
        }
      ]
    },
    {
      "cell_type": "markdown",
      "metadata": {
        "id": "ilXascz6f4cF"
      },
      "source": [
        "KNN Classifier"
      ]
    },
    {
      "cell_type": "code",
      "execution_count": null,
      "metadata": {
        "id": "iDpQe5WCf65O"
      },
      "outputs": [],
      "source": [
        "from sklearn.neighbors import KNeighborsClassifier\n",
        "KN = KNeighborsClassifier(n_neighbors=93)"
      ]
    },
    {
      "cell_type": "code",
      "execution_count": null,
      "metadata": {
        "colab": {
          "base_uri": "https://localhost:8080/"
        },
        "id": "gG9NzxxYgAgJ",
        "outputId": "b8c6f165-7018-4b4c-a282-ff274ba36f04"
      },
      "outputs": [
        {
          "output_type": "execute_result",
          "data": {
            "text/plain": [
              "0.8769110152881223"
            ]
          },
          "metadata": {},
          "execution_count": 117
        }
      ],
      "source": [
        "KN.fit(X_test, y_test)\n",
        "KN.score(X_test, y_test)"
      ]
    },
    {
      "cell_type": "markdown",
      "metadata": {
        "id": "ni7NxWV0liX2"
      },
      "source": [
        "Classification Report of KNN"
      ]
    },
    {
      "cell_type": "code",
      "execution_count": null,
      "metadata": {
        "colab": {
          "base_uri": "https://localhost:8080/"
        },
        "id": "cSBYfrmOgJxj",
        "outputId": "09e966f1-c08e-4736-a796-e1240f7d5999"
      },
      "outputs": [
        {
          "output_type": "stream",
          "name": "stdout",
          "text": [
            "              precision    recall  f1-score   support\n",
            "\n",
            "           0       1.00      0.19      0.33       390\n",
            "           1       0.87      1.00      0.93      2161\n",
            "\n",
            "    accuracy                           0.88      2551\n",
            "   macro avg       0.94      0.60      0.63      2551\n",
            "weighted avg       0.89      0.88      0.84      2551\n",
            "\n"
          ]
        }
      ],
      "source": [
        "pred_KN = KN.predict(X_test)\n",
        "print(classification_report(y_test, pred_KN))"
      ]
    },
    {
      "cell_type": "markdown",
      "source": [
        "Confusion Matrix KNN"
      ],
      "metadata": {
        "id": "U6EutMbkqZ0-"
      }
    },
    {
      "cell_type": "code",
      "source": [
        "print(confusion_matrix(y_test, pred_KN)) # Poor results for minority class"
      ],
      "metadata": {
        "colab": {
          "base_uri": "https://localhost:8080/"
        },
        "id": "8Y3uKoX3qYpN",
        "outputId": "1abc7549-1f60-43c6-fbd6-d99b0e94d505"
      },
      "execution_count": null,
      "outputs": [
        {
          "output_type": "stream",
          "name": "stdout",
          "text": [
            "[[  76  314]\n",
            " [   0 2161]]\n"
          ]
        }
      ]
    },
    {
      "cell_type": "code",
      "execution_count": null,
      "metadata": {
        "id": "y5earmgmOohV"
      },
      "outputs": [],
      "source": [
        "news = [\n",
        "    'bengalbeats.com miscellaneous reporter unrelated জেলে খাই বেহেস্তি খানা ট্রাইবুনালে যাওয়া মানা নিজামী দৈনিক মতিকণ্ঠ কারাগার মতিবেদকঢাকা কেন্দ্রীয় কারাগারে উচ্চ রক্তচাপে আক্রান্ত বৃহত্তর জামায়াতে সলামীর খানকির পোলায়ে আমীর  কাত্তরে আল বদরের কমান্ডার মতিউর রহমান নিজামী বলেছেন জেলে খা বেহেস্তি খানা ট্রাবুনালে তা যায়া মানামংগলবার সন্ধায় কেন্দ্রীয় কারাগারে আয়জিত ক সংবাদ সম্মেলনে আল বদর কমান্ডার নিজামী  কথা বলেন সময় তাকে হাস্যজ্জল দেখাচ্ছিলসংবাদ সম্মেলনে নিজামী বলেন আমাদের কারাগারগুলিতে খানাপিনার বেবস্থা মাশাল্লাহ ফাশ কিলাশ কাশিমপুর কারাগারে সকালের নাশতায় আমায় দেয়া হত লাল আটার পাঁচটি রুটি সঙ্গে ডিম ভাজি আলু ছাড়া সবজি ভাজি মুরগির মাংস মিষ্টি নসির দুধ  কলা নাশতা খায়া হজম করিয়া সারতারি না তার আগে চলিয়া আসিত দুপুরের খাবারের চিকন চালের ভাত করলা ভাজি টাকি বা চিংড়ি মাছ ভর্তা বেগুন ভাজি বা ভর্তা ছোট মাছ বা চিংড়ি মাছ ভুনা সালাদ  লেবু মাল্টা বা বর বা নাশপাতি তারপর পেট ভরিয়া খানাদানার পর দিতাম ঘুম ঘুম ভাংগিয়া সন্ধ্যার খাবারে খাতাম লাড্ডু নিমকিবিস্কুট  হরলিকস বা স্যুপ তারপর কারাগারে কুন কচি মোজাহিদের সংগে নিবিড় বেয়াম করতাম কিছুক্ষন রাতের খাবারে আসিত চিকন চালের ভাত করলা ভাজি বেগুন ভাজি বা ভর্তা ঢেড়শ বা মিষ্টিকুমড়া বা পেঁপে ভাজি গরু বা খাসির মাংস ভুনা সালাদ  লেবু বং কমলা মাল্টা নাশপাতি আঙুর বা বরআবেগঘন কণ্ঠে নিজামী বলেন আমি জানি বেহেস্তে যায়ার কুন সুযুগ আমার না আমার বিপদ ফাঁসির পর কবরে আযাব দিয়া শুরু হবে দোজখের আগুনে জ্বলিয়া পুড়িয়া আখেরাতে গিয়া শেষ হবে  সুদির্ঘ জীবনে কারাগারে কাটান বতসরগুলু আমার জীবনের শ্রেষ্ঠ সময়  যেন দুনিয়ার বুকে ক টুকরু শাদ্দাদের বেহেস্ত খায়া শোয়ার অপুর্ব বন্দবস্তহাসতে হাসতে নিজামী বলেন রুপ খানাপিনা করলে রক্তচাপ বৃদ্দি পায়া স্বাভাবিক তা আজ সকালে ডাক্তারকে ডাকিয়া বললাম ডাক্তার ডাক্তার শুন না ত বেশী ভাত খায়া ভাল না ডাক্তার আসিয়া আমায় কিছুক্ষন টিপিয়া টুপিয়া চলিয়া গেল কারাগারের নায়েবে আমীর ফরমান আলী ছার আসিয়া আমায় বললেন নিজামী সাব আজকের দিনটা রেষ্টে থাকেন ট্রাবুনালে গিয়া কাম নাঅশ্রু মুছে নিজামী বলেন কারাগারের নায়েব ফরমান আলী ছারের মত ভাল বেক্তি দানীং আর দেখা যায় না কাত্তর সালে আরেক ফরমান আলীর আন্ডারে কিছুদিন কাম করার অভিজ্ঞতা হছিল সে ফরমান আলীর পর চারটি দশক কাটিয়া গেল তারপর পালাম  ফরমান আলীরে তার নাম শুনিয়া আমার রক্তচাপ দেড় পেসকেল কমিয়া গিয়াছেঅচিরে সুস্থ হয়ে ট্রাবুনালের রায় শ্রবনের চ্ছা বেক্ত করে নিজামী বলেন শুনিলাম সলামী ছাত্র সংস্থার ২৪টি যুবতী ফিপটি শেডস অফ গ্রে সহ ধরা পড়িয়াছে উহাদের আমার কারাকক্ষে পাঠান হলে শাদ্দাদের বেহেস্ত দেখা ষুল আনা পুরন হত',\n",
        "    'motichurladdoo.com national reporter unrelated এবার মশার বিরুদ্ধে গর্জে উঠলো ছাত্রলীগের কামান সম্প্রতি ঢাকা বিশ্ববিদ্যালয় প্রাঙ্গণে ছাত্রলীগের কটি অংশকে মশা মারার যন্ত্র নিয়ে ঘুরে ঘুরে মশা মারতে দেখা যায় বিস্তারিত খোঁজ করতে গেলে জানা যায় ছাত্রলীগের সাধারণ সম্পাদক গোলাম রাব্বানী ডেঙ্গু জ্বরে আক্রান্ত হবার পর ঢাবি ক্যাম্পাসে মশা নিধন কর্মসূচি নিয়েছে সংগঠনটির নেতাকর্মীরাগতকাল ২৪ নভেম্বর সন্ধ্যায় ছাত্রলীগের সভাপতি সঞ্জিত চন্দ্র দাসের নেতৃত্বে মধুর ক্যান্টিন থেকে  মশা নিধন অভিযান শুরু হয় ক্যাম্পাসের বিভিন্ন গুরুত্বপূর্ণ স্থান বং হলগুলোর আশেপাশে মশা মারার ষুধ দেন তারা ব্যাপারে সংগঠনটির কজন কর্মীর কাছে জানতে চায়া হলে তিনি মশা মারতে ব্যস্ত আছেন বলে জানান পাশে থাকা তার কজন সহমত ভা আমাদের বলেন বাংলাদেশে মশার কোন স্থান নে মশা মন কটা পতঙ্গ যাকে বাংলার মানুষ চায় না আমরা অনেক আগে থেকে  কর্মসূচি নেবার কথা চিন্তা করছিলাম কিন্তু বিভিন্ন নির্বাচনী ব্যস্ততায় করা হয়ে ঠেনি তবে বার গোলাম রাব্বানী ভায়ের অসুস্থতার পর আমরা আর বসে থাকতে পারলাম নাসহমত ভাটি আর জানান কথায় আছে মশা মারতে কামান লাগে সিটি কর্পোরেশন যে তোদিন ধরে মশা দমন কর্মসূচি পালন করে আসলো কিন্তু তাতে কোন লাভ না হয়াতে বাধ্য হয়ে আমাদের নিজস্ব স্পেশাল কামান দিয়ে  দমন কর্মসূচি শুরু করা হয়েছেআরেকজন সহমত ভা জানান আরো কটি চাঞ্চল্যকর তথ্য  দমন অভিযানকে সফল করার জন্যে ছাত্রলীগ কটি আলাদা সংগঠন খোলার কথা চিন্তা করছে সংগঠনটির নাম হবে মশকী দমন দপ্তর রফে মদদ তিনি উচ্ছ্বসিত হয়ে আরো বলেন বিরোধী দল বারবার আমাদেরকে মদদপুষ্ট দল হিসেবে আখ্যা দিয়ে সেছে না গেস হোয়াট আমরা খন আসলে মদদয়ালা কটা দল হিসেবে আত্মপ্রকাশ করতে চলেছি পর্যায়ে নিজের গালে বসা কটি মশাকে মারতে গিয়ে তিনি কিঞ্চিত আঘাতপ্রাপ্ত হন কটু সামলে নিয়ে তিনি যোগ করেন আমরা সবাকে কটা মেসেজ দিতে চা যে সকল মদদ খারাপ না কিছু কিছু মদদ দেশ  দশের কাজে লাগে ছাড়া আমরা কঠোর হাতে  দমন কর্মসূচি চালিয়ে যাবোতার বক্তব্য শেষ হয়ার সঙ্গে সঙ্গে অন্য কজন জুনিয়র সহমত ভা সহমত পোষণ করে স্লোগানের সুরে বলেন মশকীর আস্তানা বাংলাদেশে থাকবে না দেশের সাধারণ জনগণের প্রতি আমাদের আকুতি দয়া করে আপনারা মশা মারুন আপনারা মশা না মারলে মশা আপনাকে মেরে ফেলবে দয়া করে ঘুমিয়ে থাকবেন না উঠুন জাগুন প্রয়োজনে মশা মারতে কামান দাগুনতবে নাম প্রকাশে অনিচ্ছুক ক অসহমত ভা আমাদের প্রতিবেদককে কিছুটা নিচু স্বরে জানিয়েছেন রাব্বানী ভা কবার বিজয় সরণির জ্যামে পড়লে আশা করি আমরা বিপুল নেতাকর্মীকে বিজয় সরণিতে জ্যাম সমস্যা সমাধানের লক্ষ্যে মাঠে নামতে দেখতে পাবো',\n",
        "    'jagonews24.com national reporter related রেমিটেন্স অ্যাওয়ার্ড পেলো ইসলামী ব্যাংক সর্বোচ্চ রেমিটেন্স আহরণের জন্য বাংলাদেশ ব্যাংক রেমিটেন্স অ্যায়ার্ড ২০১৭ লাভ করেছে সলামী ব্যাংক বাংলাদেশ লিমিটেড বৃহস্পতিবার ২০ সেপ্টেম্বর বাংলাদেশ ব্যাংক ট্রেনিং কাডেমি মিলনায়তনে ক অনুষ্ঠানে ব্যাংকের ম্যানেজিং ডিরেক্টর মডি প্রধান নির্বাহী সি মো মাহবুব উল আলমের হাতে পুরস্কার তুলে দেন অর্থমন্ত্রী আবুল মাল আব্দুল মুহিত বাংলাদেশ ব্যাংকের নির্বাহী পরিচালক মো আব্দুর রহিম সভাপতিত্বে অনুষ্ঠানে বিশেষ অতিথি হিসেবে উপস্থিত ছিলেনবাংলাদেশ ব্যাংকের গভর্ণর ফজলে কবির অর্থমন্ত্রণালয়ের আর্থিক প্রতিষ্ঠান বিভাগের অতিরিক্ত সচিব কামরুন নাহার আহমেদ প্রবাসী কল্যাণ বৈদেশিক কর্মসংস্থান মন্ত্রণালয়ের অতিরিক্ত সচিব ড আহমেদ মুনিরুছ সালেহীন সময় সলামী ব্যাংকের ডেপুটি ম্যানেজিং ডিরেক্টর ন্টারন্যাশনাল ব্যাংকিং উং প্রধান হাসনে আলমসহ বিভিন্ন ব্যাংকের ঊর্ধ্বতন নির্বাহী প্রবাসীরা উপস্থিত ছিলেন'\n",
        "]\n",
        "news_count = vect.transform(news)"
      ]
    },
    {
      "cell_type": "markdown",
      "source": [
        "Prediction [0 for Fake, 1 for Real]"
      ],
      "metadata": {
        "id": "pIcWxCFYqzob"
      }
    },
    {
      "cell_type": "code",
      "execution_count": null,
      "metadata": {
        "colab": {
          "base_uri": "https://localhost:8080/"
        },
        "id": "4S0gpwfZPIFy",
        "outputId": "c902e945-4125-4e11-f240-62479f8edfa5"
      },
      "outputs": [
        {
          "output_type": "execute_result",
          "data": {
            "text/plain": [
              "array([1, 1, 1])"
            ]
          },
          "metadata": {},
          "execution_count": 121
        }
      ],
      "source": [
        "NB.predict(news_count)"
      ]
    },
    {
      "cell_type": "code",
      "execution_count": null,
      "metadata": {
        "colab": {
          "base_uri": "https://localhost:8080/"
        },
        "id": "il_2Z7korkd2",
        "outputId": "a280abc3-5033-4f45-8a1a-4d9feb4834d7"
      },
      "outputs": [
        {
          "output_type": "execute_result",
          "data": {
            "text/plain": [
              "array([0, 1, 1])"
            ]
          },
          "metadata": {},
          "execution_count": 122
        }
      ],
      "source": [
        "LR.predict(news_count)"
      ]
    },
    {
      "cell_type": "code",
      "execution_count": null,
      "metadata": {
        "colab": {
          "base_uri": "https://localhost:8080/"
        },
        "id": "RDlDMaW0e0zT",
        "outputId": "0fe4216d-aac4-4a75-f8db-a15d483dbf04"
      },
      "outputs": [
        {
          "output_type": "execute_result",
          "data": {
            "text/plain": [
              "array([0, 0, 1])"
            ]
          },
          "metadata": {},
          "execution_count": 123
        }
      ],
      "source": [
        "DT.predict(news_count) # Decision Tree got it right"
      ]
    },
    {
      "cell_type": "code",
      "execution_count": null,
      "metadata": {
        "colab": {
          "base_uri": "https://localhost:8080/"
        },
        "id": "-JVTUvBlghEs",
        "outputId": "facaeeac-6dfb-4c12-f3c2-2ceb869899a3"
      },
      "outputs": [
        {
          "output_type": "execute_result",
          "data": {
            "text/plain": [
              "array([0, 1, 1])"
            ]
          },
          "metadata": {},
          "execution_count": 124
        }
      ],
      "source": [
        "KN.predict(news_count) "
      ]
    },
    {
      "cell_type": "code",
      "execution_count": null,
      "metadata": {
        "colab": {
          "base_uri": "https://localhost:8080/"
        },
        "id": "cgtP6pnTZj7j",
        "outputId": "584579b2-6ee9-43a4-d223-31e962a75c14"
      },
      "outputs": [
        {
          "output_type": "execute_result",
          "data": {
            "text/plain": [
              "1    5041\n",
              "0     909\n",
              "Name: label, dtype: int64"
            ]
          },
          "metadata": {},
          "execution_count": 125
        }
      ],
      "source": [
        "y_train.value_counts() # Imbalance :/"
      ]
    },
    {
      "cell_type": "markdown",
      "metadata": {
        "id": "ABCxCjPqD4O5"
      },
      "source": [
        "Creating Synthetic Fake News To Handle Imbalance"
      ]
    },
    {
      "cell_type": "code",
      "execution_count": null,
      "metadata": {
        "id": "BaVTe-pYkQsI"
      },
      "outputs": [],
      "source": [
        "# !pip install imblearn\n",
        "from imblearn.over_sampling import SMOTE # takes avg of neighboring data and creates new data\n",
        "smote = SMOTE(sampling_strategy='minority')"
      ]
    },
    {
      "cell_type": "code",
      "execution_count": null,
      "metadata": {
        "id": "srHGYkVaW1Dt"
      },
      "outputs": [],
      "source": [
        "X_train_smote, y_train_smote = smote.fit_resample(X_train, y_train)"
      ]
    },
    {
      "cell_type": "code",
      "execution_count": null,
      "metadata": {
        "colab": {
          "base_uri": "https://localhost:8080/"
        },
        "id": "0AnJO8qFYkNJ",
        "outputId": "920f9ec6-b509-415a-e0ba-3cf11af6207c"
      },
      "outputs": [
        {
          "output_type": "stream",
          "name": "stdout",
          "text": [
            "Before SMOTE:  Counter({1: 5041, 0: 909})\n",
            "After SMOTE:  Counter({1: 5041, 0: 5041})\n"
          ]
        }
      ],
      "source": [
        "from collections import Counter\n",
        "print('Before SMOTE: ', Counter(y_train))\n",
        "print('After SMOTE: ', Counter(y_train_smote)) # Balanced Yahoo!!!"
      ]
    },
    {
      "cell_type": "markdown",
      "metadata": {
        "id": "1sWzoNMvckwR"
      },
      "source": [
        "Testing out if performance increased"
      ]
    },
    {
      "cell_type": "code",
      "execution_count": null,
      "metadata": {
        "colab": {
          "base_uri": "https://localhost:8080/"
        },
        "id": "gifdcRQqZqF8",
        "outputId": "db5581c6-58c6-40ca-a6e1-c87dd376f67e"
      },
      "outputs": [
        {
          "output_type": "execute_result",
          "data": {
            "text/plain": [
              "0.9290474323794591"
            ]
          },
          "metadata": {},
          "execution_count": 129
        }
      ],
      "source": [
        "NB.fit(X_train_smote, y_train_smote)\n",
        "NB.score(X_test, y_test)"
      ]
    },
    {
      "cell_type": "code",
      "execution_count": null,
      "metadata": {
        "colab": {
          "base_uri": "https://localhost:8080/"
        },
        "id": "ec7Aa-I1aS54",
        "outputId": "07360af9-5129-40dd-8a54-9feb05df39f4"
      },
      "outputs": [
        {
          "output_type": "stream",
          "name": "stdout",
          "text": [
            "              precision    recall  f1-score   support\n",
            "\n",
            "           0       0.71      0.91      0.80       390\n",
            "           1       0.98      0.93      0.96      2161\n",
            "\n",
            "    accuracy                           0.93      2551\n",
            "   macro avg       0.85      0.92      0.88      2551\n",
            "weighted avg       0.94      0.93      0.93      2551\n",
            "\n"
          ]
        }
      ],
      "source": [
        "pred_NB = NB.predict(X_test)\n",
        "print(classification_report(y_test, pred_NB))"
      ]
    },
    {
      "cell_type": "code",
      "source": [
        "print(confusion_matrix(y_test, pred_NB))"
      ],
      "metadata": {
        "colab": {
          "base_uri": "https://localhost:8080/"
        },
        "id": "IFc5sHLMrISV",
        "outputId": "521886ee-0f45-4a63-d018-3b649cce9711"
      },
      "execution_count": null,
      "outputs": [
        {
          "output_type": "stream",
          "name": "stdout",
          "text": [
            "[[ 354   36]\n",
            " [ 145 2016]]\n"
          ]
        }
      ]
    },
    {
      "cell_type": "code",
      "execution_count": null,
      "metadata": {
        "colab": {
          "base_uri": "https://localhost:8080/"
        },
        "id": "GVQ1zUIHal0S",
        "outputId": "440cc35d-a299-4b21-a5bd-4f3db630877a"
      },
      "outputs": [
        {
          "output_type": "execute_result",
          "data": {
            "text/plain": [
              "0.9627597020776166"
            ]
          },
          "metadata": {},
          "execution_count": 132
        }
      ],
      "source": [
        "LR.fit(X_train_smote, y_train_smote)\n",
        "LR.score(X_test, y_test)"
      ]
    },
    {
      "cell_type": "code",
      "execution_count": null,
      "metadata": {
        "colab": {
          "base_uri": "https://localhost:8080/"
        },
        "id": "ateNP-3KascD",
        "outputId": "210be722-f48d-4ec3-e9cb-d5d29e266734"
      },
      "outputs": [
        {
          "output_type": "stream",
          "name": "stdout",
          "text": [
            "              precision    recall  f1-score   support\n",
            "\n",
            "           0       0.85      0.92      0.88       390\n",
            "           1       0.98      0.97      0.98      2161\n",
            "\n",
            "    accuracy                           0.96      2551\n",
            "   macro avg       0.92      0.94      0.93      2551\n",
            "weighted avg       0.96      0.96      0.96      2551\n",
            "\n"
          ]
        }
      ],
      "source": [
        "pred_LR = LR.predict(X_test)\n",
        "print(classification_report(y_test, pred_LR)) "
      ]
    },
    {
      "cell_type": "code",
      "source": [
        "print(confusion_matrix(y_test, pred_LR)) # pretty decent performance boost for Naive Bayes and Logistic Regression"
      ],
      "metadata": {
        "colab": {
          "base_uri": "https://localhost:8080/"
        },
        "id": "3bspl73irWBz",
        "outputId": "f1f59958-fe4b-47e8-e27b-226c2a25e318"
      },
      "execution_count": null,
      "outputs": [
        {
          "output_type": "stream",
          "name": "stdout",
          "text": [
            "[[ 358   32]\n",
            " [  63 2098]]\n"
          ]
        }
      ]
    },
    {
      "cell_type": "code",
      "execution_count": null,
      "metadata": {
        "colab": {
          "base_uri": "https://localhost:8080/"
        },
        "id": "M1yp_lMMg2gQ",
        "outputId": "55519aeb-2cb3-47ee-b632-69ab4cbb3bdc"
      },
      "outputs": [
        {
          "output_type": "execute_result",
          "data": {
            "text/plain": [
              "0.9925519404155233"
            ]
          },
          "metadata": {},
          "execution_count": 135
        }
      ],
      "source": [
        "DT.fit(X_train_smote, y_train_smote)\n",
        "DT.score(X_test, y_test)"
      ]
    },
    {
      "cell_type": "code",
      "execution_count": null,
      "metadata": {
        "colab": {
          "base_uri": "https://localhost:8080/"
        },
        "id": "AbMkXjl7g_Oo",
        "outputId": "f9898ea2-e8a9-4a4b-a5b4-d18b69190aef"
      },
      "outputs": [
        {
          "output_type": "stream",
          "name": "stdout",
          "text": [
            "              precision    recall  f1-score   support\n",
            "\n",
            "           0       0.99      0.96      0.98       390\n",
            "           1       0.99      1.00      1.00      2161\n",
            "\n",
            "    accuracy                           0.99      2551\n",
            "   macro avg       0.99      0.98      0.99      2551\n",
            "weighted avg       0.99      0.99      0.99      2551\n",
            "\n"
          ]
        }
      ],
      "source": [
        "pred_DT = DT.predict(X_test)\n",
        "print(classification_report(y_test, pred_DT)) "
      ]
    },
    {
      "cell_type": "code",
      "source": [
        "print(confusion_matrix(y_test, pred_DT)) # Performance kind of remained same, still the best 😎"
      ],
      "metadata": {
        "colab": {
          "base_uri": "https://localhost:8080/"
        },
        "id": "bBmL8P6trvEb",
        "outputId": "932a30a0-6bed-4cf0-8679-f4966b5aa4b6"
      },
      "execution_count": null,
      "outputs": [
        {
          "output_type": "stream",
          "name": "stdout",
          "text": [
            "[[ 375   15]\n",
            " [   4 2157]]\n"
          ]
        }
      ]
    },
    {
      "cell_type": "code",
      "execution_count": null,
      "metadata": {
        "colab": {
          "base_uri": "https://localhost:8080/"
        },
        "id": "2Ow6URDRhctv",
        "outputId": "df4b4ab0-3b01-4716-ae78-2273cc1bb962"
      },
      "outputs": [
        {
          "output_type": "execute_result",
          "data": {
            "text/plain": [
              "0.23167385339082713"
            ]
          },
          "metadata": {},
          "execution_count": 138
        }
      ],
      "source": [
        "KN.fit(X_train_smote, y_train_smote)\n",
        "KN.score(X_test, y_test)"
      ]
    },
    {
      "cell_type": "code",
      "execution_count": null,
      "metadata": {
        "colab": {
          "base_uri": "https://localhost:8080/"
        },
        "id": "Yq0q8iHyhooA",
        "outputId": "f7113db2-d47b-4325-ff5a-b84431d06b94"
      },
      "outputs": [
        {
          "output_type": "stream",
          "name": "stdout",
          "text": [
            "              precision    recall  f1-score   support\n",
            "\n",
            "           0       0.17      1.00      0.28       390\n",
            "           1       1.00      0.09      0.17      2161\n",
            "\n",
            "    accuracy                           0.23      2551\n",
            "   macro avg       0.58      0.55      0.23      2551\n",
            "weighted avg       0.87      0.23      0.19      2551\n",
            "\n"
          ]
        }
      ],
      "source": [
        "pred_KN = KN.predict(X_test)\n",
        "print(classification_report(y_test, pred_KN)) "
      ]
    },
    {
      "cell_type": "code",
      "source": [
        "print(confusion_matrix(y_test, pred_KN)) # Performance decreased after smote for this specific model!"
      ],
      "metadata": {
        "colab": {
          "base_uri": "https://localhost:8080/"
        },
        "id": "qoadokTSsEi0",
        "outputId": "0f5e0fef-23ba-4371-d389-e1c939b66276"
      },
      "execution_count": null,
      "outputs": [
        {
          "output_type": "stream",
          "name": "stdout",
          "text": [
            "[[ 389    1]\n",
            " [1959  202]]\n"
          ]
        }
      ]
    },
    {
      "cell_type": "code",
      "execution_count": null,
      "metadata": {
        "id": "Ds4ZmXIYidFh"
      },
      "outputs": [],
      "source": [
        "news = [\n",
        "    'bengalbeats.com miscellaneous reporter unrelated জেলে খাই বেহেস্তি খানা ট্রাইবুনালে যাওয়া মানা নিজামী দৈনিক মতিকণ্ঠ কারাগার মতিবেদকঢাকা কেন্দ্রীয় কারাগারে উচ্চ রক্তচাপে আক্রান্ত বৃহত্তর জামায়াতে সলামীর খানকির পোলায়ে আমীর  কাত্তরে আল বদরের কমান্ডার মতিউর রহমান নিজামী বলেছেন জেলে খা বেহেস্তি খানা ট্রাবুনালে তা যায়া মানামংগলবার সন্ধায় কেন্দ্রীয় কারাগারে আয়জিত ক সংবাদ সম্মেলনে আল বদর কমান্ডার নিজামী  কথা বলেন সময় তাকে হাস্যজ্জল দেখাচ্ছিলসংবাদ সম্মেলনে নিজামী বলেন আমাদের কারাগারগুলিতে খানাপিনার বেবস্থা মাশাল্লাহ ফাশ কিলাশ কাশিমপুর কারাগারে সকালের নাশতায় আমায় দেয়া হত লাল আটার পাঁচটি রুটি সঙ্গে ডিম ভাজি আলু ছাড়া সবজি ভাজি মুরগির মাংস মিষ্টি নসির দুধ  কলা নাশতা খায়া হজম করিয়া সারতারি না তার আগে চলিয়া আসিত দুপুরের খাবারের চিকন চালের ভাত করলা ভাজি টাকি বা চিংড়ি মাছ ভর্তা বেগুন ভাজি বা ভর্তা ছোট মাছ বা চিংড়ি মাছ ভুনা সালাদ  লেবু মাল্টা বা বর বা নাশপাতি তারপর পেট ভরিয়া খানাদানার পর দিতাম ঘুম ঘুম ভাংগিয়া সন্ধ্যার খাবারে খাতাম লাড্ডু নিমকিবিস্কুট  হরলিকস বা স্যুপ তারপর কারাগারে কুন কচি মোজাহিদের সংগে নিবিড় বেয়াম করতাম কিছুক্ষন রাতের খাবারে আসিত চিকন চালের ভাত করলা ভাজি বেগুন ভাজি বা ভর্তা ঢেড়শ বা মিষ্টিকুমড়া বা পেঁপে ভাজি গরু বা খাসির মাংস ভুনা সালাদ  লেবু বং কমলা মাল্টা নাশপাতি আঙুর বা বরআবেগঘন কণ্ঠে নিজামী বলেন আমি জানি বেহেস্তে যায়ার কুন সুযুগ আমার না আমার বিপদ ফাঁসির পর কবরে আযাব দিয়া শুরু হবে দোজখের আগুনে জ্বলিয়া পুড়িয়া আখেরাতে গিয়া শেষ হবে  সুদির্ঘ জীবনে কারাগারে কাটান বতসরগুলু আমার জীবনের শ্রেষ্ঠ সময়  যেন দুনিয়ার বুকে ক টুকরু শাদ্দাদের বেহেস্ত খায়া শোয়ার অপুর্ব বন্দবস্তহাসতে হাসতে নিজামী বলেন রুপ খানাপিনা করলে রক্তচাপ বৃদ্দি পায়া স্বাভাবিক তা আজ সকালে ডাক্তারকে ডাকিয়া বললাম ডাক্তার ডাক্তার শুন না ত বেশী ভাত খায়া ভাল না ডাক্তার আসিয়া আমায় কিছুক্ষন টিপিয়া টুপিয়া চলিয়া গেল কারাগারের নায়েবে আমীর ফরমান আলী ছার আসিয়া আমায় বললেন নিজামী সাব আজকের দিনটা রেষ্টে থাকেন ট্রাবুনালে গিয়া কাম নাঅশ্রু মুছে নিজামী বলেন কারাগারের নায়েব ফরমান আলী ছারের মত ভাল বেক্তি দানীং আর দেখা যায় না কাত্তর সালে আরেক ফরমান আলীর আন্ডারে কিছুদিন কাম করার অভিজ্ঞতা হছিল সে ফরমান আলীর পর চারটি দশক কাটিয়া গেল তারপর পালাম  ফরমান আলীরে তার নাম শুনিয়া আমার রক্তচাপ দেড় পেসকেল কমিয়া গিয়াছেঅচিরে সুস্থ হয়ে ট্রাবুনালের রায় শ্রবনের চ্ছা বেক্ত করে নিজামী বলেন শুনিলাম সলামী ছাত্র সংস্থার ২৪টি যুবতী ফিপটি শেডস অফ গ্রে সহ ধরা পড়িয়াছে উহাদের আমার কারাকক্ষে পাঠান হলে শাদ্দাদের বেহেস্ত দেখা ষুল আনা পুরন হত',\n",
        "    'motichurladdoo.com national reporter unrelated এবার মশার বিরুদ্ধে গর্জে উঠলো ছাত্রলীগের কামান সম্প্রতি ঢাকা বিশ্ববিদ্যালয় প্রাঙ্গণে ছাত্রলীগের কটি অংশকে মশা মারার যন্ত্র নিয়ে ঘুরে ঘুরে মশা মারতে দেখা যায় বিস্তারিত খোঁজ করতে গেলে জানা যায় ছাত্রলীগের সাধারণ সম্পাদক গোলাম রাব্বানী ডেঙ্গু জ্বরে আক্রান্ত হবার পর ঢাবি ক্যাম্পাসে মশা নিধন কর্মসূচি নিয়েছে সংগঠনটির নেতাকর্মীরাগতকাল ২৪ নভেম্বর সন্ধ্যায় ছাত্রলীগের সভাপতি সঞ্জিত চন্দ্র দাসের নেতৃত্বে মধুর ক্যান্টিন থেকে  মশা নিধন অভিযান শুরু হয় ক্যাম্পাসের বিভিন্ন গুরুত্বপূর্ণ স্থান বং হলগুলোর আশেপাশে মশা মারার ষুধ দেন তারা ব্যাপারে সংগঠনটির কজন কর্মীর কাছে জানতে চায়া হলে তিনি মশা মারতে ব্যস্ত আছেন বলে জানান পাশে থাকা তার কজন সহমত ভা আমাদের বলেন বাংলাদেশে মশার কোন স্থান নে মশা মন কটা পতঙ্গ যাকে বাংলার মানুষ চায় না আমরা অনেক আগে থেকে  কর্মসূচি নেবার কথা চিন্তা করছিলাম কিন্তু বিভিন্ন নির্বাচনী ব্যস্ততায় করা হয়ে ঠেনি তবে বার গোলাম রাব্বানী ভায়ের অসুস্থতার পর আমরা আর বসে থাকতে পারলাম নাসহমত ভাটি আর জানান কথায় আছে মশা মারতে কামান লাগে সিটি কর্পোরেশন যে তোদিন ধরে মশা দমন কর্মসূচি পালন করে আসলো কিন্তু তাতে কোন লাভ না হয়াতে বাধ্য হয়ে আমাদের নিজস্ব স্পেশাল কামান দিয়ে  দমন কর্মসূচি শুরু করা হয়েছেআরেকজন সহমত ভা জানান আরো কটি চাঞ্চল্যকর তথ্য  দমন অভিযানকে সফল করার জন্যে ছাত্রলীগ কটি আলাদা সংগঠন খোলার কথা চিন্তা করছে সংগঠনটির নাম হবে মশকী দমন দপ্তর রফে মদদ তিনি উচ্ছ্বসিত হয়ে আরো বলেন বিরোধী দল বারবার আমাদেরকে মদদপুষ্ট দল হিসেবে আখ্যা দিয়ে সেছে না গেস হোয়াট আমরা খন আসলে মদদয়ালা কটা দল হিসেবে আত্মপ্রকাশ করতে চলেছি পর্যায়ে নিজের গালে বসা কটি মশাকে মারতে গিয়ে তিনি কিঞ্চিত আঘাতপ্রাপ্ত হন কটু সামলে নিয়ে তিনি যোগ করেন আমরা সবাকে কটা মেসেজ দিতে চা যে সকল মদদ খারাপ না কিছু কিছু মদদ দেশ  দশের কাজে লাগে ছাড়া আমরা কঠোর হাতে  দমন কর্মসূচি চালিয়ে যাবোতার বক্তব্য শেষ হয়ার সঙ্গে সঙ্গে অন্য কজন জুনিয়র সহমত ভা সহমত পোষণ করে স্লোগানের সুরে বলেন মশকীর আস্তানা বাংলাদেশে থাকবে না দেশের সাধারণ জনগণের প্রতি আমাদের আকুতি দয়া করে আপনারা মশা মারুন আপনারা মশা না মারলে মশা আপনাকে মেরে ফেলবে দয়া করে ঘুমিয়ে থাকবেন না উঠুন জাগুন প্রয়োজনে মশা মারতে কামান দাগুনতবে নাম প্রকাশে অনিচ্ছুক ক অসহমত ভা আমাদের প্রতিবেদককে কিছুটা নিচু স্বরে জানিয়েছেন রাব্বানী ভা কবার বিজয় সরণির জ্যামে পড়লে আশা করি আমরা বিপুল নেতাকর্মীকে বিজয় সরণিতে জ্যাম সমস্যা সমাধানের লক্ষ্যে মাঠে নামতে দেখতে পাবো',\n",
        "    'jagonews24.com national reporter related রেমিটেন্স অ্যাওয়ার্ড পেলো ইসলামী ব্যাংক সর্বোচ্চ রেমিটেন্স আহরণের জন্য বাংলাদেশ ব্যাংক রেমিটেন্স অ্যায়ার্ড ২০১৭ লাভ করেছে সলামী ব্যাংক বাংলাদেশ লিমিটেড বৃহস্পতিবার ২০ সেপ্টেম্বর বাংলাদেশ ব্যাংক ট্রেনিং কাডেমি মিলনায়তনে ক অনুষ্ঠানে ব্যাংকের ম্যানেজিং ডিরেক্টর মডি প্রধান নির্বাহী সি মো মাহবুব উল আলমের হাতে পুরস্কার তুলে দেন অর্থমন্ত্রী আবুল মাল আব্দুল মুহিত বাংলাদেশ ব্যাংকের নির্বাহী পরিচালক মো আব্দুর রহিম সভাপতিত্বে অনুষ্ঠানে বিশেষ অতিথি হিসেবে উপস্থিত ছিলেনবাংলাদেশ ব্যাংকের গভর্ণর ফজলে কবির অর্থমন্ত্রণালয়ের আর্থিক প্রতিষ্ঠান বিভাগের অতিরিক্ত সচিব কামরুন নাহার আহমেদ প্রবাসী কল্যাণ বৈদেশিক কর্মসংস্থান মন্ত্রণালয়ের অতিরিক্ত সচিব ড আহমেদ মুনিরুছ সালেহীন সময় সলামী ব্যাংকের ডেপুটি ম্যানেজিং ডিরেক্টর ন্টারন্যাশনাল ব্যাংকিং উং প্রধান হাসনে আলমসহ বিভিন্ন ব্যাংকের ঊর্ধ্বতন নির্বাহী প্রবাসীরা উপস্থিত ছিলেন'\n",
        "]\n",
        "news_count = vect.transform(news)"
      ]
    },
    {
      "cell_type": "markdown",
      "source": [
        "Let's predict again"
      ],
      "metadata": {
        "id": "zh-EYehPwjO9"
      }
    },
    {
      "cell_type": "code",
      "execution_count": null,
      "metadata": {
        "colab": {
          "base_uri": "https://localhost:8080/"
        },
        "id": "2FIoBJCzigQa",
        "outputId": "31a21da2-0d63-482f-c37b-a7a03b2bc8fa"
      },
      "outputs": [
        {
          "output_type": "execute_result",
          "data": {
            "text/plain": [
              "array([0, 0, 1])"
            ]
          },
          "metadata": {},
          "execution_count": 143
        }
      ],
      "source": [
        "NB.predict(news_count) # Predicted Right"
      ]
    },
    {
      "cell_type": "code",
      "execution_count": null,
      "metadata": {
        "colab": {
          "base_uri": "https://localhost:8080/"
        },
        "id": "aedJsXY-i5Z4",
        "outputId": "947822af-17e0-4e1f-b3c0-fd8a9f6efaf3"
      },
      "outputs": [
        {
          "output_type": "execute_result",
          "data": {
            "text/plain": [
              "array([0, 0, 1])"
            ]
          },
          "metadata": {},
          "execution_count": 144
        }
      ],
      "source": [
        "LR.predict(news_count) # Predicted Right"
      ]
    },
    {
      "cell_type": "code",
      "execution_count": null,
      "metadata": {
        "colab": {
          "base_uri": "https://localhost:8080/"
        },
        "id": "RynKSjFhi5yx",
        "outputId": "f916bcfd-6b87-4ba9-9ecf-41901ea02734"
      },
      "outputs": [
        {
          "output_type": "execute_result",
          "data": {
            "text/plain": [
              "array([0, 0, 1])"
            ]
          },
          "metadata": {},
          "execution_count": 145
        }
      ],
      "source": [
        "DT.predict(news_count) # Predicted Right"
      ]
    },
    {
      "cell_type": "code",
      "execution_count": null,
      "metadata": {
        "colab": {
          "base_uri": "https://localhost:8080/"
        },
        "id": "2ESDjRBhi6OI",
        "outputId": "c23873eb-7f1f-4b4b-aa7e-fa8884cdcb82"
      },
      "outputs": [
        {
          "output_type": "execute_result",
          "data": {
            "text/plain": [
              "array([0, 0, 0])"
            ]
          },
          "metadata": {},
          "execution_count": 146
        }
      ],
      "source": [
        "KN.predict(news_count) # Definite No GO!!!"
      ]
    },
    {
      "cell_type": "markdown",
      "metadata": {
        "id": "Xo8yzLLEDq6g"
      },
      "source": [
        "Final Section"
      ]
    },
    {
      "cell_type": "code",
      "execution_count": null,
      "metadata": {
        "id": "3TuvCs-LZj7q"
      },
      "outputs": [],
      "source": [
        "def output_label(n):\n",
        "    if n == 0:\n",
        "        return \"Fake News\"\n",
        "    elif n == 1:\n",
        "        return \"Real News\"\n",
        "    \n",
        "def manual_testing(news):\n",
        "    news_test = {'text': [news]}\n",
        "    test_df = pd.DataFrame(news_test)\n",
        "    test_df.text = test_df['text'].apply(remove_punctuation)\n",
        "    test_df.text = test_df['text'].apply(remove_english_punctuation)    \n",
        "    test_df.text = test_df['text'].apply(lambda x: x.lower())\n",
        "    test_df.text = test_df['text'].apply(tokenize)\n",
        "    test_df.text = test_df['text'].apply(remove_stopwords)\n",
        "    test_df.text = test_df['text'].apply(stemming)\n",
        "    test_df.text = test_df['text'].apply(remove_stopwords)    \n",
        "    test_df.text = test_df['text'].apply(lambda x: ' '.join(x))\n",
        "    test_df.text = test_df['text'].apply(lambda x: ' '.join(x.split()))\n",
        "    new_xv_test = vect.transform(test_df.text)\n",
        "    pred_NB = NB.predict(new_xv_test)\n",
        "    pred_LR = LR.predict(new_xv_test)\n",
        "    pred_DT = DT.predict(new_xv_test)\n",
        "    pred_KN = KN.predict(new_xv_test)\n",
        "    return print('\\n\\nNB Prediction: {} \\nLR Prediction: {} \\nDT Prediction: {} \\nKN Prediction: {}'.format(output_label(pred_NB), \n",
        "                                                                                                            output_label(pred_LR), \n",
        "                                                                                                            output_label(pred_DT), \n",
        "                                                                                                            output_label(pred_KN)))"
      ]
    },
    {
      "cell_type": "code",
      "source": [
        "inp_domain = str(input(\"Enter domain: \"))\n",
        "inp_category = str(input(\"Enter category: \"))\n",
        "inp_source = str(input(\"Enter source: \"))\n",
        "inp_relation = str(input(\"Enter relation: \"))\n",
        "inp_title = str(input(\"Enter title: \"))\n",
        "inp_content = str(input(\"Enter content: \"))\n",
        "inp_news = inp_domain + ' ' + inp_category + ' ' + inp_source + ' ' + inp_relation + ' ' + inp_title + ' ' + inp_content\n",
        "manual_testing(inp_news)"
      ],
      "metadata": {
        "colab": {
          "base_uri": "https://localhost:8080/"
        },
        "id": "SQTAm16Ns6W8",
        "outputId": "62d767f1-abb7-4585-d0ee-39f681e851af"
      },
      "execution_count": null,
      "outputs": [
        {
          "output_type": "stream",
          "name": "stdout",
          "text": [
            "Enter domain: blackforest.com\n",
            "Enter category: Black Gold\n",
            "Enter source: Gold Digger\n",
            "Enter relation: Unrelated\n",
            "Enter title: কালো সোনা খুজতে সাদা পাহাড়ের নিচে খনন\n",
            "Enter content: একদল অসাধু কালো সোনা চোর তাদের সর্বশেষ অভিযানে সাদা পাহাড়ের নিচে গভীর রাতে সুরঙ্গ খুড়ে যাত্রা শুরু করলো অন্ধকারের পথে। হঠাত আধারের মাঝে জ্বলে উঠলো কালো সোনার গোলাপী আলো। তা দেখে সোনা চোরগুলো ঝাপিয়ে পড়ে কাপিয়ে দিলো। এই ছিলো সর্বশেষ সংবাদ!!!\n",
            "applied first rules..\n",
            "applied fourth rules..\n",
            "applied fourth rules..\n",
            "applied first rules..\n",
            "applied first rules..\n",
            "applied fourth rules..\n",
            "applied fourth rules..\n",
            "applied fourth rules..\n",
            "applied third rules..\n",
            "applied second rules..\n",
            "applied second rules..\n",
            "applied second rules..\n",
            "applied fourth rules..\n",
            "\n",
            "\n",
            "NB Prediction: Fake News \n",
            "LR Prediction: Fake News \n",
            "DT Prediction: Fake News \n",
            "KN Prediction: Fake News\n"
          ]
        }
      ]
    },
    {
      "cell_type": "code",
      "source": [
        "inp_domain = str(input(\"Enter domain: \"))\n",
        "inp_category = str(input(\"Enter category: \"))\n",
        "inp_source = str(input(\"Enter source: \"))\n",
        "inp_relation = str(input(\"Enter relation: \"))\n",
        "inp_title = str(input(\"Enter title: \"))\n",
        "inp_content = str(input(\"Enter content: \"))\n",
        "inp_news = inp_domain + ' ' + inp_category + ' ' + inp_source + ' ' + inp_relation + ' ' + inp_title + ' ' + inp_content\n",
        "manual_testing(inp_news)"
      ],
      "metadata": {
        "colab": {
          "base_uri": "https://localhost:8080/"
        },
        "id": "Vr25Ss2RtXr7",
        "outputId": "eca53da7-681a-4a4b-8fb0-383b940e20bb"
      },
      "execution_count": null,
      "outputs": [
        {
          "output_type": "stream",
          "name": "stdout",
          "text": [
            "Enter domain: prothomalo.com\n",
            "Enter category: International\n",
            "Enter source: প্রথম আলো ডেস্ক\n",
            "Enter relation: Related\n",
            "Enter title: বাংলাদেশের স্বাধীনতার পক্ষে মোদির সত্যাগ্রহ ও কারাবরণের তথ্য নেই\n",
            "Enter content: বাংলাদেশের স্বাধীনতা আন্দোলনের সমর্থনে নিজের সত্যাগ্রহ পালন ও কারাগারে যাওয়া বিষয়ে ভারতের প্রধানমন্ত্রী নরেন্দ্র মোদি যে বক্তব্য দিয়েছিলেন, তার কোনো তথ্য দিতে পারেনি দেশটির প্রধানমন্ত্রীর কার্যালয়।  ভারতের গণমাধ্যম দ্য অয়্যারের খবরে বলা হয়, দেশটির তথ্য অধিকার (আরটিআই) আইনে এ বিষয়ে জানতে চাওয়া হলে প্রধানমন্ত্রীর কার্যালয় মোদির গ্রেপ্তার ও মুক্তির কোনো নথি দিতে পারেনি।  বাংলাদেশের স্বাধীনতার ৫০ বছর পূর্তি ও মুজিব বর্ষের অনুষ্ঠানে যোগ দিতে গত বছরের ২৬ মার্চ বাংলাদেশে এসেছিলেন প্রধানমন্ত্রী নরেন্দ্র মোদি। সে সময় মোদি বলেন, (বাংলাদেশের) স্বাধীনতা আন্দোলনের সময় এ দেশের সমর্থনে সত্যাগ্রহ করেছিলেন তিনি। আর এ সত্যাগ্রহ করে জেলে যেতে হয়েছিল তাঁকে।  মোদির এ বক্তব্যের কড়া সমালোচনা করেছিলেন ভারতের বিরোধী দলের নেতারা। তিনি যে সত্যাগ্রহ করেছিলেন, সে–সংক্রান্ত নথিও তাঁর কাছে চেয়েছিলেন বিরোধীরা।  বাংলাদেশে এসে ওই বক্তব্য দেওয়ার পর জায়েশ গুরনানি নামের এক ব্যক্তি তথ্য অধিকার আইনে প্রধানমন্ত্রীর কার্যালয়ে একটি আবেদন করেন ২০২১ সালের ২৭ মার্চ।  মোদির ওই বক্তব্যের সূত্র ধরে পাঁচটি বিষয় জানতে চেয়েছিলেন তিনি। এর মধ্যে ছিল, মোদিকে সত্যাগ্রহ পালনকালে কোন অভিযোগে গ্রেপ্তার করা হয়েছিল, এফআইআর আছে কি না, গ্রেপ্তারের কোনো নথি আছে কি না, গ্রেপ্তারের পর তিনি কোন জেলে ছিলেন এবং পরে মুক্তি পান সে–সংক্রান্ত নথি আছে কি না।  গুরনানির এসব প্রশ্নের সরাসরি কোনো উত্তর দেয়নি ভারতের প্রধানমন্ত্রীর কার্যালয়। তবে কার্যালয় বলেছে, মোদির বক্তব্যেই শুধু এ–সংক্রান্ত তথ্য রয়েছে। বাংলাদেশে গিয়ে তিনি যে বক্তব্য দিয়েছিলেন, সেই বক্তব্য প্রধানমন্ত্রীর কার্যালয়ের জবাবের সঙ্গে যোগ করে দেওয়া হয়।  প্রধানমন্ত্রীর কার্যালয়ের জবাবে আরও বলা হয়, ২০১৪ সালে মোদি ক্ষমতায় আসার পর থেকে তাঁর সম্পর্কে নথি সংরক্ষণ করা হচ্ছে।\n",
            "applied fourth rules..\n",
            "applied fourth rules..\n",
            "applied first rules..\n",
            "applied fourth rules..\n",
            "applied fourth rules..\n",
            "applied fourth rules..\n",
            "applied first rules..\n",
            "applied fourth rules..\n",
            "applied second rules..\n",
            "applied first rules..\n",
            "applied fourth rules..\n",
            "applied fourth rules..\n",
            "applied second rules..\n",
            "applied fourth rules..\n",
            "applied fourth rules..\n",
            "applied fourth rules..\n",
            "applied fourth rules..\n",
            "applied first rules..\n",
            "applied fourth rules..\n",
            "applied fourth rules..\n",
            "applied fourth rules..\n",
            "applied fourth rules..\n",
            "applied first rules..\n",
            "applied fourth rules..\n",
            "applied first rules..\n",
            "applied second rules..\n",
            "applied first rules..\n",
            "applied fourth rules..\n",
            "applied fourth rules..\n",
            "applied fourth rules..\n",
            "applied fourth rules..\n",
            "applied fourth rules..\n",
            "applied second rules..\n",
            "applied fourth rules..\n",
            "applied second rules..\n",
            "applied fourth rules..\n",
            "applied fourth rules..\n",
            "applied fourth rules..\n",
            "applied second rules..\n",
            "applied fourth rules..\n",
            "applied fourth rules..\n",
            "applied fourth rules..\n",
            "applied fourth rules..\n",
            "applied fourth rules..\n",
            "applied fourth rules..\n",
            "applied fourth rules..\n",
            "applied first rules..\n",
            "applied fourth rules..\n",
            "applied fourth rules..\n",
            "applied first rules..\n",
            "applied first rules..\n",
            "applied first rules..\n",
            "applied second rules..\n",
            "applied fourth rules..\n",
            "applied first rules..\n",
            "applied fourth rules..\n",
            "applied second rules..\n",
            "applied fourth rules..\n",
            "applied fourth rules..\n",
            "applied first rules..\n",
            "applied second rules..\n",
            "applied fourth rules..\n",
            "applied fourth rules..\n",
            "applied fourth rules..\n",
            "applied fourth rules..\n",
            "applied fourth rules..\n",
            "applied second rules..\n",
            "applied fourth rules..\n",
            "applied first rules..\n",
            "applied fourth rules..\n",
            "applied first rules..\n",
            "applied fourth rules..\n",
            "applied fourth rules..\n",
            "applied fourth rules..\n",
            "applied first rules..\n",
            "applied fourth rules..\n",
            "applied first rules..\n",
            "applied first rules..\n",
            "applied fourth rules..\n",
            "applied fourth rules..\n",
            "applied fourth rules..\n",
            "applied second rules..\n",
            "applied first rules..\n",
            "applied first rules..\n",
            "applied fourth rules..\n",
            "applied second rules..\n",
            "applied fourth rules..\n",
            "applied second rules..\n",
            "applied fourth rules..\n",
            "applied fourth rules..\n",
            "applied second rules..\n",
            "applied fourth rules..\n",
            "applied first rules..\n",
            "applied fourth rules..\n",
            "applied first rules..\n",
            "\n",
            "\n",
            "NB Prediction: Real News \n",
            "LR Prediction: Real News \n",
            "DT Prediction: Real News \n",
            "KN Prediction: Fake News\n"
          ]
        }
      ]
    }
  ],
  "metadata": {
    "colab": {
      "collapsed_sections": [],
      "provenance": [],
      "include_colab_link": true
    },
    "gpuClass": "standard",
    "kernelspec": {
      "display_name": "Python 3 (ipykernel)",
      "language": "python",
      "name": "python3"
    },
    "language_info": {
      "codemirror_mode": {
        "name": "ipython",
        "version": 3
      },
      "file_extension": ".py",
      "mimetype": "text/x-python",
      "name": "python",
      "nbconvert_exporter": "python",
      "pygments_lexer": "ipython3",
      "version": "3.9.6"
    }
  },
  "nbformat": 4,
  "nbformat_minor": 0
}